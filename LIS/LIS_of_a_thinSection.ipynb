{
 "cells": [
  {
   "cell_type": "markdown",
   "metadata": {},
   "source": [
    "# Create a local information system of a Thin-Section\n",
    "\n",
    "Author: @gianfrancodp, @albdag - CC-BY-SA\n",
    "---\n",
    "\n",
    "Table of Content\n",
    "\n",
    "1. [Import files](#1-import-files)\n",
    "2. [Create Raster tiles using Gdal](#2-create-raster-tiles-using-gdal)\n",
    "3. [Convert SHP to Geojson using GDAL ogr2ogr](#3-convert-shp-to-geojson-using-gdal-ogr2ogr)\n",
    "4. [Add GeoJson overlay to web-viewer](#4-add-geojson-overlay-to-web-viewer)\n",
    "5. [Add pop-up feature to the map](#5-add-popup-to-the-map)\n",
    "6. [Add rosediagram and legend feature to the webpage](#6-add-mineral-legend-and-rosediagrams)\n",
    "\n",
    "---\n",
    "\n",
    "### Python and enviromnent requirements:\n",
    "\n",
    "- Python 3\n",
    "- GDAL\n",
    "- beautifulsoup4==4.12.3\n",
    "- ipython==8.12.3\n",
    "- ipywidgets==8.1.2\n",
    "\n",
    "### Credits and library used:\n",
    "\n",
    "- [\"OpenLayers\" Library](https://github.com/openlayers/openlayers)\n",
    "- \"OpenLayer Extension\" AKA `ol-ext` ([source code](https://github.com/Viglino/ol-ext?tab=readme-ov-file)) released under BSD 3-Clause License. Copyright (c) 2016-2021, Jean-Marc Viglino, IGN-France [All rights reserved](https://github.com/Viglino/ol-ext?tab=BSD-3-Clause-2-ov-file)\n",
    "- [GDAL](https://gdal.org/en/latest/index.html) and [gdal2tiles](https://gdal.org/en/latest/programs/gdal2tiles.html) © 1998-2024 Frank Warmerdam, Even Rouault, and others\n",
    "- [Beautiful Soap](https://www.crummy.com/software/BeautifulSoup/) 1996-2024 Leonard Richardson. Unless otherwise noted, Creative Commons License.\n",
    "- [GeoJSON](https://geojson.org/) standard definition [RFC7946](https://datatracker.ietf.org/doc/html/rfc7946) (Butler et al, 2016)\n",
    "- [Micro-Fabric Analyzer (MFA)](https://www.mdpi.com/2220-9964/10/2/51) (Visalli et al, 2021).\n",
    "- [Quantitative X-ray Map Analyser (Q-XRMA)](https://www.sciencedirect.com/science/article/pii/S0098300417306982) (Ortolano et al, 2018)\n",
    "- [\"ArcStereoNet](https://doi.org/10.3390/ijgi10020050): A New ArcGIS® Toolbox for Projection and Analysis of Meso- and Micro-Structural Data\" (Ortolano et al, 2021)\n",
    "\n",
    "\n",
    " \n",
    "In this section we collect input data and global settings.\n",
    "We assume that we have a raster file of a Thin-section digitalized in any way and we have defined a polygon feature that overlay minerals or other elements of the thin-section.\n",
    "\n",
    "The poligon feature layer must be in a GIS-readable format. In this version of `lis_functions.py` we assume raster is a jpg (or TIFF) file in RGB with the image of a thin section, and poligon of minerals are stored in a shapefile correctly overlay the raster in a no-crs system. More detail about it is described in [#2](#2-create-raster-tiles-using-gdal) and in [#3](#3-convert-shp-to-geojson-using-gdal-ogr2ogr) section."
   ]
  },
  {
   "cell_type": "code",
   "execution_count": 1,
   "metadata": {},
   "outputs": [
    {
     "name": "stdout",
     "output_type": "stream",
     "text": [
      "Python 3 detected. OK.\n",
      "GDAL version: 3.8.5\n"
     ]
    }
   ],
   "source": [
    "# verify Python version\n",
    "import sys\n",
    "if sys.version_info[0] < 3:\n",
    "    raise Exception(\"Python 3 not detected.\")\n",
    "else :\n",
    "    print(\"Python 3 detected. OK.\")\n",
    "\n",
    "# verify GDAL version\n",
    "try:\n",
    "    from osgeo import gdal\n",
    "    print(f\"GDAL version: {gdal.__version__}\")\n",
    "except ImportError:\n",
    "    raise ImportError(\"GDAL not detected.\")"
   ]
  },
  {
   "cell_type": "markdown",
   "metadata": {},
   "source": [
    "### How to install GDAL binary\n",
    "If your system do not have GDAL installed before continue you must to install it.\n",
    "\n",
    "as explained in [offical repository](https://gdal.org/en/latest/download.html#binaries) to install GDAL in your system follow these steps:\n",
    "\n",
    "- **Windows** builds are available via [Conda Forge](https://anaconda.org/conda-forge/gdal) (64-bit only). GDAL is also distributed by [GISInternals](https://www.gisinternals.com/index.html) and [OSGeo4W](https://trac.osgeo.org/osgeo4w/) and through the [NuGet](https://www.nuget.org/packages?q=GDAL) and [vcpkg](https://gdal.org/en/latest/download.html#vcpkg) package managers. *For windows users we suggest use Conda, read more on [official web page](https://gdal.org/en/latest/download.html#conda) for installation process.*\n",
    "\n",
    "- **Linux** packages are available for [Debian](https://tracker.debian.org/pkg/gdal), Alpine_, Fedora_, and other distributions.\n",
    "- In **Mac OS** GDAL packages are available on [Homebrew](https://formulae.brew.sh/formula/gdal). If you have homebrew installed just type `homebrew install gdal` in the terminal."
   ]
  },
  {
   "cell_type": "markdown",
   "metadata": {},
   "source": [
    "# 1. Import files\n",
    "\n",
    "In this section we use `upload_files_widgets` from `lis_function.py` to import data and files usinng widgets.\n",
    "\n",
    "Next, store the file in a local subfolder with the same name of \"project name\" gived by the user.\n",
    "\n",
    "## 1.1 File specification details\n",
    "\n",
    "1. <u>**Shapefile**</u>: the minimum collection of 4 files [.shp, .dbf, .shx, .cpg] in ESRI standard format. the shapefile will be converted in GeoJSON format by `ogr2ogr` subprocess. The Shapefile must cointain polygons of mineral of the thin section.\n",
    "\n",
    "**Field table definition used in this LIS and stored in Shapefile**\n",
    "|Field name|type|example value|NOTE|\n",
    "|---|---|---|---|\n",
    "|*Mineral*|str|`Pl`|Coded name of mineral|\n",
    "|O|float|`90.0`|Degree of orientation|\n",
    "|Asr|float|`0.39438`|Aspect Ratio|\n",
    "|A|float|`0.12928`|Area in micrometers|\n",
    "|R|float|`0.58411`|Roundness|\n",
    "|GSI|float|`1.87833`|Grain Shape Index|\n",
    "\n",
    "The code of minerals to use is reported in the following table:\n",
    "\n",
    "### Codename of mineral used\n",
    "|*Code*|Mineral name|\n",
    "|---|---|\n",
    "|Amph|Amphibole|\n",
    "|Ep|Epidote|\n",
    "|Ap|Apatite|\n",
    "|Kfs|K-Feldspar|\n",
    "|Ol|Olivine|\n",
    "|Pl|Plagioclase|\n",
    "|Px|Pyroxene|\n",
    "|Qtz|Quartz|\n",
    "<!-- |Cal|Calcite|\n",
    "|Ca-Si min|Calc-Silicate Mineral|\n",
    "|Scap (aggr)|Scapolite (aggregate)|\n",
    "|Scap|Scapolite|\n",
    "|Oth|Other| -->\n",
    "\n",
    "\n",
    "In this example polygons are generated by these tools:\n",
    "- [Micro-Fabric Analyzer (MFA)](https://www.mdpi.com/2220-9964/10/2/51) (Visalli et al, 2021).\n",
    "- [Quantitative X-ray Map Analyser (Q-XRMA)](https://www.sciencedirect.com/science/article/pii/S0098300417306982) (Ortolano et al, 2018)\n",
    "\n",
    "\n",
    "\n",
    "2. <u>**Image**</u>: Through the use of gdal2tiles the original image is broken up into hundreds of small fragments (tiles) while maintaining the original characteristics. We do not suggest formats such as TIFF, JP2, ECW, etc., which although supported by gdal2tiles may not be readable by a web browser. Instead, we suggest using a more web-compatible format such as PNG or JPG for the raster.\n",
    "\n",
    "3. <u>**NO-Coordinate Reference System (NO-CRS)**</u>: check that both Shapefile and Image are correctly overlapped in a NO-CRS system. We only use the internal coordinate of the pixel of the raster, polygon vertex defined in Shapefile are referring to a specific pixel of the Imagefile.\n"
   ]
  },
  {
   "cell_type": "code",
   "execution_count": 7,
   "metadata": {},
   "outputs": [
    {
     "data": {
      "application/vnd.jupyter.widget-view+json": {
       "model_id": "9f8f225464ae4c4696f1e829c4bf952a",
       "version_major": 2,
       "version_minor": 0
      },
      "text/plain": [
       "Label(value='Select ALL the shapefile files [.shp, .dbf, .shx, .cpg]')"
      ]
     },
     "metadata": {},
     "output_type": "display_data"
    },
    {
     "data": {
      "application/vnd.jupyter.widget-view+json": {
       "model_id": "ba1934ebdaf84ae98af16de0b5ee2579",
       "version_major": 2,
       "version_minor": 0
      },
      "text/plain": [
       "FileUpload(value=(), accept='.shp, .dbf, .shx, .cpg', description='Shapefile polygon layer', multiple=True)"
      ]
     },
     "metadata": {},
     "output_type": "display_data"
    },
    {
     "data": {
      "application/vnd.jupyter.widget-view+json": {
       "model_id": "c81ff3c83dc94ed6a130470f3f90b83e",
       "version_major": 2,
       "version_minor": 0
      },
      "text/plain": [
       "Label(value='Select the Image file')"
      ]
     },
     "metadata": {},
     "output_type": "display_data"
    },
    {
     "data": {
      "application/vnd.jupyter.widget-view+json": {
       "model_id": "51b76b1e516b410aa1feecab7eb4657c",
       "version_major": 2,
       "version_minor": 0
      },
      "text/plain": [
       "FileUpload(value=(), description='Image')"
      ]
     },
     "metadata": {},
     "output_type": "display_data"
    },
    {
     "data": {
      "application/vnd.jupyter.widget-view+json": {
       "model_id": "7c2c52e72757401c857b7f74979404a4",
       "version_major": 2,
       "version_minor": 0
      },
      "text/plain": [
       "Label(value='Select the project name')"
      ]
     },
     "metadata": {},
     "output_type": "display_data"
    },
    {
     "data": {
      "application/vnd.jupyter.widget-view+json": {
       "model_id": "e1c2d3e8f97649598cd80742507d4b9d",
       "version_major": 2,
       "version_minor": 0
      },
      "text/plain": [
       "Text(value='', description='Name:', placeholder='NAME')"
      ]
     },
     "metadata": {},
     "output_type": "display_data"
    },
    {
     "data": {
      "application/vnd.jupyter.widget-view+json": {
       "model_id": "ed405312452343749f6eb5eb4d05a742",
       "version_major": 2,
       "version_minor": 0
      },
      "text/plain": [
       "Label(value='Note: ouptut folder will be created in the same directory as the input files')"
      ]
     },
     "metadata": {},
     "output_type": "display_data"
    }
   ],
   "source": [
    "# Input widgets\n",
    "\n",
    "from lis_functions import upload_files_widgets\n",
    "Shapefile_selector, Jpgfile_selector, projectname = upload_files_widgets()\n",
    "# Shapefile_selector, Jpgfile_selector, projectname, EPSGcode = upload_files_widgets()\n"
   ]
  },
  {
   "cell_type": "markdown",
   "metadata": {},
   "source": [
    "In the windows above select file in the \"example_data\" subfolder \n",
    "![example](https://i.imgur.com/lDIHotO.png)"
   ]
  },
  {
   "cell_type": "code",
   "execution_count": 8,
   "metadata": {
    "tags": [
     "save_to_temp_dir"
    ]
   },
   "outputs": [],
   "source": [
    "from lis_functions import save_to_temp_dir\n",
    "\n",
    "# Save file to a temporary directory\n",
    "\n",
    "files_path = save_to_temp_dir(Shapefile_selector, Jpgfile_selector, projectname.value)\n",
    "\n",
    "# Run gdal2tiles\n"
   ]
  },
  {
   "cell_type": "markdown",
   "metadata": {},
   "source": [
    "# 2. Create Raster tiles using Gdal\n",
    "\n",
    "Using a subprocess, we run the function `run_gdal2tiles`, that launch the gdal2tiles procedure in terminal.\n",
    "\n",
    "By default a simple webviewer is written and stored in openalayer.html file inside the project folder.\n",
    "\n",
    "NOTE: destination folder is also created by `save_to_temp_dir` function before"
   ]
  },
  {
   "cell_type": "code",
   "execution_count": 9,
   "metadata": {},
   "outputs": [
    {
     "name": "stdout",
     "output_type": "stream",
     "text": [
      "WARNING! - Directory already exists, Files with same name will be overwrited.\n"
     ]
    },
    {
     "name": "stderr",
     "output_type": "stream",
     "text": [
      "Generating Base Tiles:\n"
     ]
    },
    {
     "name": "stdout",
     "output_type": "stream",
     "text": [
      "0...10...20...30...40...50...60...70...80...90...100 - done.\n",
      "0."
     ]
    },
    {
     "name": "stderr",
     "output_type": "stream",
     "text": [
      "Generating Overview Tiles:\n"
     ]
    },
    {
     "name": "stdout",
     "output_type": "stream",
     "text": [
      "..10...20...30...40...50...60...70...80...90...100 - done.\n",
      "Tiles stored in: PAL22\n"
     ]
    }
   ],
   "source": [
    "from lis_functions import run_gdal2tiles\n",
    "\n",
    "# Create raster tiles using gdal2tiles\n",
    "# for customization see function in lis_functions.py\n",
    "\n",
    "run_gdal2tiles(files_path['Raster_path'], projectname.value)\n",
    "\n",
    "# some information is stored in tilemapsoruce.xml file generated from gdal2tiles"
   ]
  },
  {
   "cell_type": "markdown",
   "metadata": {},
   "source": [
    "# 3. Convert SHP to Geojson using GDAL ogr2ogr\n",
    "\n",
    "Using `ogr2ogr` in a subprocess we convert shp in geoJson format\n"
   ]
  },
  {
   "cell_type": "code",
   "execution_count": 10,
   "metadata": {},
   "outputs": [
    {
     "name": "stdout",
     "output_type": "stream",
     "text": [
      "Conversion completed: PAL22/PAL22_min_porphy.shp.geojson\n"
     ]
    }
   ],
   "source": [
    "import os\n",
    "\n",
    "from lis_functions import convert_shp_to_geojson\n",
    "\n",
    "# Get the input shapefile path from `save_to_temp_dir` cell\n",
    "input_shp = files_path['Shp_file_path']\n",
    "\n",
    "# Create the output GeoJSON file path\n",
    "output_geojson = os.path.join(projectname.value, os.path.basename(input_shp) +'.geojson')\n",
    "# Convert SHP to GeoJSON using the function and an ogr2ogr subprocess\n",
    "convert_shp_to_geojson(input_shp, output_geojson)"
   ]
  },
  {
   "cell_type": "markdown",
   "metadata": {},
   "source": [
    "# 4. Add GeoJson overlay to web-viewer\n",
    "\n",
    "We access the openalyers.html defautl file [generated by gdal2tiles](#2-create-raster-tiles-using-gdal) and add some simple javascript code to overlay the [previously created](#3-convert-shp-to-geojson-using-gdal-ogr2ogr) GeoJSON.\n",
    "\n",
    "Using BeautifulSoup Python library, the function `add_geojson_overlay_to_gdal2tiles_html_output()` add a script tag and the relative Javascript code for overlaying a GeoJSON in the OpenLayers webmap HTML.\n",
    "\n",
    "**NOTE**: For a properly map overlay viweing in a browser, we assume a nominal reference system as EPSG:3857, the same as  used by OpenLayers by default. If other SRSs are used, the vector overlay on raster tiles is not correct.\n",
    "\n",
    "This is a fictitious hypothesis only for the execution of the webviewer in HTML code. Like an hack that exploits the OpenLayer libraries, which are instead designed for maps with well-defined reference systems. It only works if the vector layer and raster layer are already overlaid (according to the numerical values of their respective coordinates), and have been saved without SRS definition."
   ]
  },
  {
   "cell_type": "code",
   "execution_count": 11,
   "metadata": {},
   "outputs": [
    {
     "name": "stdout",
     "output_type": "stream",
     "text": [
      "File updated: PAL22/index.html\n"
     ]
    }
   ],
   "source": [
    "from lis_functions import add_geojson_overlay_to_gdal2tiles_html_output\n",
    "\n",
    "# Note: the default output of gdal2tiles is an html file named 'openlayers.html'\n",
    "# in the output directory. This file is a template and can be modified to include\n",
    "\n",
    "html_input = os.path.join(projectname.value, 'openlayers.html')\n",
    "\n",
    "html_output = os.path.join(projectname.value, 'index.html')\n",
    "\n",
    "geojson_file_path = output_geojson\n",
    "\n",
    "add_geojson_overlay_to_gdal2tiles_html_output(geojson_file_path, html_input, html_output)\n"
   ]
  },
  {
   "cell_type": "markdown",
   "metadata": {},
   "source": [
    "# 5. Add popup to the map\n",
    "\n",
    "The pop-up feature is provided using `ol-ex` a Javascript library \"OpenLayer Extension\".\n",
    "\n",
    "For more info about `ol-ext` is [released](https://github.com/Viglino/ol-ext?tab=readme-ov-file) under BSD 3-Clause License. Copyright (c) 2016-2021, Jean-Marc Viglino, IGN-France [All rights reserved](https://github.com/Viglino/ol-ext?tab=BSD-3-Clause-2-ov-file).\n",
    "\n",
    "The function `add_popup_feature_to_gdal2tiles_html_output(Html_input,Html_output)` work on an html file provided by [#4](#4-add-geojson-overlay-to-web-viewer). It only works if *Html_input* is the result of the process we are conducting.\n",
    "\n",
    "This function follow these 3 steps:\n",
    "1. Add a link to JS and CSS of `ol-ext` hosted by *cdn.jsdelivr.net* in the head and bottom of html_input\n",
    "2. Add a customized script code with `ol.Overlay.PopupFeature()`\n",
    "3. Add customized CSS that overrides some features for better visualization.\n",
    "\n",
    "The customized popup work with precise field name in the geojson file used, in this example we have a template like this:\n",
    "\n",
    "![templatecode](https://i.imgur.com/siVZDBR.png)\n",
    "\n",
    "Mineral names in the the popup title is generating with the [\"Codename of mineral used table\"](#codename-of-mineral-used):\n",
    "\n",
    "<!-- |Code (str)| Mineral name|\n",
    "|---|---|\n",
    "|Amph|Amphibole|\n",
    "|Ep|Epidote|\n",
    "|Ap|Apatite|\n",
    "|Kfs|K-Feldspar|\n",
    "|Ol|Olivine|\n",
    "|Pl|Plagioclase|\n",
    "|Px|Pyroxene|\n",
    "|Qtz|Quartz|\n",
    "|Cal|Calcite|\n",
    "|Ca-Si min|Calc-Silicate Mineral|\n",
    "|Scap (aggr)|Scapolite (aggregate)|\n",
    "|Scap|Scapolite|\n",
    "|Oth|Other| -->\n",
    "\n",
    "\n",
    "Change this in the function definition if are different on your field table."
   ]
  },
  {
   "cell_type": "markdown",
   "metadata": {},
   "source": []
  },
  {
   "cell_type": "code",
   "execution_count": 12,
   "metadata": {},
   "outputs": [
    {
     "name": "stdout",
     "output_type": "stream",
     "text": [
      "File updated: PAL22/index2.html\n"
     ]
    }
   ],
   "source": [
    "\n",
    "from lis_functions import add_popup_feature_to_gdal2tiles_html_output\n",
    "\n",
    "add_popup_feature_to_gdal2tiles_html_output('PAL22/index.html', 'PAL22/index2.html')"
   ]
  },
  {
   "cell_type": "markdown",
   "metadata": {},
   "source": [
    "# 6. Add mineral legend and rosediagrams\n",
    "\n",
    "Now we add to the webmap another customization.\n",
    "With *ArcStereoNet* [*] or other software for analizing microstructural data of Thin section, we obtained a weighted and unweighted rose diagrams based on grains cumulative area.\n",
    "\n",
    "[*] Ortolano, Gaetano, Alberto D’Agostino, Mario Pagano, Roberto Visalli, Michele Zucali, Eugenio Fazio, Ian Alsop, and Rosolino Cirrincione. 2021. \"ArcStereoNet: A New ArcGIS® Toolbox for Projection and Analysis of Meso- and Micro-Structural Data\" ISPRS International Journal of Geo-Information 10, no. 2: 50. https://doi.org/10.3390/ijgi10020050\n",
    "\n",
    "After this, we stored SVGs files of rosediagrams in `example_data\\asset\\rose`. \n",
    "\n",
    "The feature that we are adding must provide an interaction with the user that every click on a polygon corresponding an action of modification of the webpage. If the user click on a \"Quartz\"-classified polygon, the webviewer provide the \"Quartz\" rose-diagram. \n",
    "\n",
    "Another related feature is the ability to show and query the rosediagram results by clicking a button representing a mineral type. This requires a button for each type of mineral classified in the thin section. We create these buttons using a common graphic software and store it in the `example_data\\asset\\legend`. \n",
    "\n",
    "The function `add_legend_and_rosediagrams` will modify the html produced by steps before in this way:\n",
    "\n",
    "1. Copy files of rosediagram and legend buttons in an appropriate subfolder\n",
    "2. Adds a \"blank rose diagram\" for the case of \"other\" or empty mineral result from query.\n",
    "3. Using same method of [#4](#4-add-geojson-overlay-to-web-viewer) and [#5](#5-add-popup-to-the-map) the function inserts in the html some Javascript code and new Html tags for the legend and the rosediagrams.\n",
    "4. Resizes the height of the map and modifies other style and script settings for better result.\n",
    "\n",
    "The function `add_legend_and_rosediagrams` works with the list of file paths used for the rosediagram and legend buttons. In this example, we provide two simple dict variables that contain the *mineral code* and the relative file path. \n",
    "\n",
    "Refer to the code below."
   ]
  },
  {
   "cell_type": "code",
   "execution_count": 1,
   "metadata": {},
   "outputs": [],
   "source": [
    "# from bs4 import BeautifulSoup\n",
    "# import os\n",
    "from lis_functions import add_legend_and_rosediagrams\n",
    "\n",
    "\n",
    "# create a dictionary of legend icons paths\n",
    "legend_icons = {\n",
    "    'Ap': 'example_data/asset/legend/Ap_legend.svg',\n",
    "    'Amph': 'example_data/asset/legend/Amph_legend.svg',\n",
    "    'Ep': 'example_data/asset/legend/Ep_legend.svg',\n",
    "    'Kfs': 'example_data/asset/legend/Kfs_legend.svg',\n",
    "    'Ol': 'example_data/asset/legend/Ol_legend.svg',\n",
    "    'Pl': 'example_data/asset/legend/Pl_legend.svg',\n",
    "    'Px': 'example_data/asset/legend/Px_legend.svg',\n",
    "    'Qtz': 'example_data/asset/legend/Qtz_legend.svg'\n",
    "}\n",
    "\n",
    "\n",
    "# set the path of rose diagrams images\n",
    "# Create a dictionary to store the paths of the images\n",
    "\n",
    "rose_diagrams = {\n",
    "    'Ap_UnW': 'example_data/asset/rose/PAL22_Ap_1.svg',\n",
    "    'Ap_W': 'example_data/asset/rose/PAL22_Ap_2.svg',\n",
    "    'Amph_UnW': 'example_data/asset/rose/PAL22_Amph_1.svg',\n",
    "    'Amph_W': 'example_data/asset/rose/PAL22_Amph_2.svg',\n",
    "    'Ep_UnW': 'example_data/asset/rose/PAL22_Ep_1.svg',\n",
    "    'Ep_W': 'example_data/asset/rose/PAL22_Ep_2.svg',\n",
    "    'Kfs_UnW' : 'example_data/asset/rose/PAL22_Kfs_1.svg',\n",
    "    'Kfs_W' : 'example_data/asset/rose/PAL22_Kfs_2.svg',\n",
    "    'Ol_UnW' : 'example_data/asset/rose/PAL22_Ol_1.svg',\n",
    "    'Ol_W' : 'example_data/asset/rose/PAL22_Ol_2.svg',\n",
    "    'Oth_UnW' : 'example_data/asset/rose/PAL22_Oth_1.svg',\n",
    "    'Oth_W' : 'example_data/asset/rose/PAL22_Oth_2.svg',\n",
    "    'Pl_UnW' : 'example_data/asset/rose/PAL22_Pl_1.svg',\n",
    "    'Pl_W' : 'example_data/asset/rose/PAL22_Pl_2.svg',\n",
    "    'Px_UnW' : 'example_data/asset/rose/PAL22_Px_1.svg',\n",
    "    'Px_W' : 'example_data/asset/rose/PAL22_Px_2.svg',\n",
    "    'Qtz_UnW' : 'example_data/asset/rose/PAL22_Qtz_1.svg',\n",
    "    'Qtz_W' : 'example_data/asset/rose/PAL22_Qtz_2.svg',\n",
    "}\n",
    "\n",
    "blankDiagram = 'example_data/asset/rose/blank_diagram.svg'\n",
    "\n",
    "#set the width of the map view after adding the legend icons\n",
    "map_view_height='255px'\n",
    "\n",
    "add_legend_and_rosediagrams('PAL22/index2.html','PAL22/index3.html', legend_icons, map_view_height, blankDiagram, rose_diagrams)"
   ]
  },
  {
   "cell_type": "markdown",
   "metadata": {},
   "source": [
    "The folder \"PAL22\" contains the example_data results.\n",
    "\n",
    "For a more comprension of editing process every step before generated a unique version of HTML file, the last file `PAL22/index3.html` is the final result.\n",
    "\n",
    "You can delete other files (index.html, index2.html and openlayers.html) and rename index3.html as you like for put inside in a website or webpage (for example using \\<iframe\\> tag)\n",
    "\n",
    "![video](https://i.imgur.com/jXEnsva.gif)"
   ]
  },
  {
   "cell_type": "markdown",
   "metadata": {},
   "source": []
  }
 ],
 "metadata": {
  "kernelspec": {
   "display_name": "metpetools",
   "language": "python",
   "name": "python3"
  },
  "language_info": {
   "codemirror_mode": {
    "name": "ipython",
    "version": 3
   },
   "file_extension": ".py",
   "mimetype": "text/x-python",
   "name": "python",
   "nbconvert_exporter": "python",
   "pygments_lexer": "ipython3",
   "version": "3.11.1"
  }
 },
 "nbformat": 4,
 "nbformat_minor": 2
}
