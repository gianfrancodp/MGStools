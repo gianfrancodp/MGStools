{
 "cells": [
  {
   "cell_type": "markdown",
   "metadata": {},
   "source": [
    "# Create a local information system of a Thin-Section\n",
    "\n",
    "---\n",
    "\n",
    "Table of Content\n",
    "\n",
    "1. [Import files](#1-import-files)\n",
    "2. [Create Raster tiles using Gdal](#2-create-raster-tiles-using-gdal)\n",
    "3. [Convert SHP to Geojson using GDAL ogr2ogr](#3-convert-shp-to-geojson-using-gdal-ogr2ogr)\n",
    "4. [Add GeoJson overlay to web-viewer](#4-add-geojson-overlay-to-web-viewer)\n",
    "\n",
    "---\n",
    "\n",
    "requirements:\n",
    "\n",
    "- Python 3\n",
    "- GDAL\n",
    "\n",
    "In this section we collect input data and global settings.\n",
    "We assume that we have a raster file of a Thin-section digitalized in any way and we have defined a polygon feature that overlay minerals or other elements of the thin-section.\n",
    "\n",
    "The poligon feature layer must be in a GIS-readable format.\n",
    "We use gadl2tiles with no-crs definition"
   ]
  },
  {
   "cell_type": "code",
   "execution_count": 1,
   "metadata": {},
   "outputs": [
    {
     "name": "stdout",
     "output_type": "stream",
     "text": [
      "Python 3 detected. OK.\n",
      "GDAL version: 3.8.5\n"
     ]
    }
   ],
   "source": [
    "# verify Python version\n",
    "import sys\n",
    "if sys.version_info[0] < 3:\n",
    "    raise Exception(\"Python 3 not detected.\")\n",
    "else :\n",
    "    print(\"Python 3 detected. OK.\")\n",
    "\n",
    "# verify GDAL version\n",
    "try:\n",
    "    from osgeo import gdal\n",
    "    print(f\"GDAL version: {gdal.__version__}\")\n",
    "except ImportError:\n",
    "    raise ImportError(\"GDAL not detected.\")"
   ]
  },
  {
   "cell_type": "markdown",
   "metadata": {},
   "source": [
    "# 1. Import files\n",
    "\n",
    "In this section we use `upload_files_widgets` from `lis_function.py` to import data and files usinng widgets.\n",
    "\n",
    "Next, store the file in a local subfolder with the same name of \"project name\" gived by the user.\n",
    "\n",
    "## 1.1 File specification details\n",
    "\n",
    "1. <u>**Shapefile**</u>: the minimum collection of 4 files [.shp, .dbf, .shx, .cpg] in ESRI standard format. the shapefile will be converted in GeoJSON format by `ogr2ogr` subprocess. The Shapefile must cointain polygons of mineral or other element that overlay the raster image.\n",
    "\n",
    "**Field table definition used in this LIS**\n",
    "\n",
    "<!-- \n",
    "\n",
    "function PopUpContent(feature) {\n",
    "    var mineral = feature.get('Mineral');\n",
    "    var popupContent = '<b> Mineral: ' + getMineralName(mineral) + '</b>';\n",
    "    // popupContent += '<br> L = ' + feature.get('L');\n",
    "    // popupContent += '<br> W = ' + feature.get('W');\n",
    "    popupContent += '<br> Orientation = ' + String(feature.get('O')).substring(0, 5) + '°';\n",
    "    // popupContent += '<br> AR = ' + feature.get('AR');\n",
    "    popupContent += '<br> Aspect Ratio = ' + String(feature.get('AsR')).substring(0, 5);\n",
    "    popupContent += '<br> Area = ' + String(feature.get('A')).substring(0, 5) + ' mm²';\n",
    "    // popupContent += '<br> E = ' + feature.get('E');\n",
    "    popupContent += '<br> Roundness = ' + String(feature.get('R')).substring(0, 5);\n",
    "    // popupContent += '<br> P = ' + feature.get('P');\n",
    "    // popupContent += '<br> C = ' + feature.get('C');\n",
    "    // popupContent += '<br> Cp = ' + feature.get('Cp');\n",
    "    popupContent += '<br> Grain Shape Index = ' + String(feature.get('GSI')).substring(0, 5);\n",
    "    // popupContent += '<br> GSF = ' + feature.get('GSF');\n",
    "    // popupContent += '<br> S = ' + feature.get('S');\n",
    "    // popupContent += '<br> EQPC = ' + feature.get('EQPC');\n",
    "    // popupContent += '<br> El = ' + feature.get('El');\n",
    "    return popupContent; -->\n",
    "\n",
    "\n",
    "2. <u>**Image**</u>: The original file raster used for webview, will be created hundreds of raster-tiles, there are in a format readable by `gdal` and browser, we suggest Jpeg or TIFF format\n",
    "\n",
    "3. <u>**NO-Coordinate Reference System (NO-CRS)**</u>: check that both Shapefile and Image are correctly overlapped in a NO-CRS system. We only use the internal coordinate of the pixel of the raster, polygon vertex defined in Shapefile are referring to a specific pixel of the Imagefile.\n"
   ]
  },
  {
   "cell_type": "code",
   "execution_count": 2,
   "metadata": {},
   "outputs": [
    {
     "data": {
      "application/vnd.jupyter.widget-view+json": {
       "model_id": "8908392faef14b3a84197f881c6bf8c4",
       "version_major": 2,
       "version_minor": 0
      },
      "text/plain": [
       "Label(value='Select ALL the shapefile files [.shp, .dbf, .shx, .cpg]')"
      ]
     },
     "metadata": {},
     "output_type": "display_data"
    },
    {
     "data": {
      "application/vnd.jupyter.widget-view+json": {
       "model_id": "e151744f6b2a444d978653391d0d2db8",
       "version_major": 2,
       "version_minor": 0
      },
      "text/plain": [
       "FileUpload(value=(), accept='.shp, .dbf, .shx, .cpg', description='Shapefile polygon layer', multiple=True)"
      ]
     },
     "metadata": {},
     "output_type": "display_data"
    },
    {
     "data": {
      "application/vnd.jupyter.widget-view+json": {
       "model_id": "b2707cd7fc414441af38752b1fccd5b8",
       "version_major": 2,
       "version_minor": 0
      },
      "text/plain": [
       "Label(value='Select the Image file')"
      ]
     },
     "metadata": {},
     "output_type": "display_data"
    },
    {
     "data": {
      "application/vnd.jupyter.widget-view+json": {
       "model_id": "a0ca1754755d4566aefce31ace2e6280",
       "version_major": 2,
       "version_minor": 0
      },
      "text/plain": [
       "FileUpload(value=(), description='Image')"
      ]
     },
     "metadata": {},
     "output_type": "display_data"
    },
    {
     "data": {
      "application/vnd.jupyter.widget-view+json": {
       "model_id": "e1527557bcae4c89a7e9ec45710d32bc",
       "version_major": 2,
       "version_minor": 0
      },
      "text/plain": [
       "Label(value='Select the project name')"
      ]
     },
     "metadata": {},
     "output_type": "display_data"
    },
    {
     "data": {
      "application/vnd.jupyter.widget-view+json": {
       "model_id": "44577eee626f4af4909eb76dde17ab00",
       "version_major": 2,
       "version_minor": 0
      },
      "text/plain": [
       "Text(value='', description='Name:', placeholder='NAME')"
      ]
     },
     "metadata": {},
     "output_type": "display_data"
    },
    {
     "data": {
      "application/vnd.jupyter.widget-view+json": {
       "model_id": "7b3409625fa642ad96e34d5d29163496",
       "version_major": 2,
       "version_minor": 0
      },
      "text/plain": [
       "Label(value='Note: ouptut folder will be created in the same directory as the input files')"
      ]
     },
     "metadata": {},
     "output_type": "display_data"
    }
   ],
   "source": [
    "# Input widgets\n",
    "\n",
    "from lis_functions import upload_files_widgets\n",
    "Shapefile_selector, Jpgfile_selector, projectname = upload_files_widgets()\n",
    "# Shapefile_selector, Jpgfile_selector, projectname, EPSGcode = upload_files_widgets()\n"
   ]
  },
  {
   "cell_type": "code",
   "execution_count": 3,
   "metadata": {
    "tags": [
     "save_to_temp_dir"
    ]
   },
   "outputs": [],
   "source": [
    "from lis_functions import save_to_temp_dir\n",
    "\n",
    "# Save file to a temporary directory\n",
    "\n",
    "files_path = save_to_temp_dir(Shapefile_selector, Jpgfile_selector, projectname.value)\n",
    "\n",
    "# Run gdal2tiles\n"
   ]
  },
  {
   "cell_type": "markdown",
   "metadata": {},
   "source": [
    "# 2. Create Raster tiles using Gdal\n",
    "\n",
    "Using a subprocess, we run the function `run_gdal2tiles`, that launch the gdal2tiles procedure in terminal.\n",
    "\n",
    "By default a simple webviewer is written and stored in openalayer.html file inside the project folder.\n",
    "\n",
    "NOTE: destination folder is also created by `save_to_temp_dir` function before"
   ]
  },
  {
   "cell_type": "code",
   "execution_count": 4,
   "metadata": {},
   "outputs": [
    {
     "name": "stdout",
     "output_type": "stream",
     "text": [
      "WARNING! - Directory already exists, Files will be overwrited! Continue? (Y).\n"
     ]
    },
    {
     "name": "stderr",
     "output_type": "stream",
     "text": [
      "Generating Base Tiles:\n"
     ]
    },
    {
     "name": "stdout",
     "output_type": "stream",
     "text": [
      "0...10...20...30...40...50...60...70...80...90...100 - done.\n",
      "0."
     ]
    },
    {
     "name": "stderr",
     "output_type": "stream",
     "text": [
      "Generating Overview Tiles:\n"
     ]
    },
    {
     "name": "stdout",
     "output_type": "stream",
     "text": [
      "..10...20...30...40...50...60...70...80...90...100 - done.\n",
      "Tiles stored in: PAL11\n"
     ]
    }
   ],
   "source": [
    "from lis_functions import run_gdal2tiles\n",
    "\n",
    "# Create raster tiles using gdal2tiles\n",
    "# for customization see function in lis_functions.py\n",
    "\n",
    "run_gdal2tiles(files_path['Raster_path'], projectname.value)\n",
    "\n",
    "# some information is stored in tilemapsoruce.xml file generated from gdal2tiles"
   ]
  },
  {
   "cell_type": "markdown",
   "metadata": {},
   "source": [
    "# 3. Convert SHP to Geojson using GDAL ogr2ogr\n",
    "\n",
    "Using `ogr2oge` in a subprocess we convert shp in geoJson format\n"
   ]
  },
  {
   "cell_type": "code",
   "execution_count": 5,
   "metadata": {},
   "outputs": [
    {
     "name": "stdout",
     "output_type": "stream",
     "text": [
      "Conversion completed: PAL11/PAL11_min_porphy.shp.geojson\n"
     ]
    }
   ],
   "source": [
    "import os\n",
    "\n",
    "from lis_functions import convert_shp_to_geojson\n",
    "\n",
    "# Get the input shapefile path from `save_to_temp_dir` cell\n",
    "input_shp = files_path['Shp_file_path']\n",
    "\n",
    "# Create the output GeoJSON file path\n",
    "output_geojson = projectname.value + '/' + os.path.basename(input_shp) +'.geojson'\n",
    "\n",
    "# Convert SHP to GeoJSON using the function and an ogr2ogr subprocess\n",
    "convert_shp_to_geojson(input_shp, output_geojson)"
   ]
  },
  {
   "cell_type": "markdown",
   "metadata": {},
   "source": [
    "# 4. Add GeoJson overlay to web-viewer\n",
    "\n",
    "We access the openalyers.html defautl file generated by gdal2tiles and add some simple javascript code to overlay the previously created GeoJSON.\n",
    "\n",
    "1. We use the file `geojson_template.js`, a JavaScript file prepared with the script code to add to the mapviewer; in the next step we simply change the placeholder to the current GeoJSON file.\n",
    "2. We create the javascript code and add it as a source script to the `openlayers.html` file generated earlier by the gdal2tiles subprocess\n",
    "\n",
    "The visualization style for polygon overlay can be edited in javascript using openalyers syntax before this process.\n",
    "\n",
    "**NOTE**: For a properly map overlay viweing in a browser, we assume a nominal reference system as EPSG:3857, the same as  used by OpenLayers by default. If other SRSs are used, the vector overlay on raster tiles is not correct.\n",
    "\n",
    "This is a fictitious hypothesis only for the execution of the webviewer in HTML code. Like an hack that exploits the OpenLayer libraries, which are instead designed for maps with well-defined reference systems. It only works if the vector layer and raster layer are already overlaid (according to the numerical values of their respective coordinates), and have been saved without SRS definition."
   ]
  },
  {
   "cell_type": "code",
   "execution_count": 28,
   "metadata": {},
   "outputs": [
    {
     "name": "stdout",
     "output_type": "stream",
     "text": [
      "File created: PAL11/geojson.js\n",
      "File updated: PAL11/index.html\n"
     ]
    }
   ],
   "source": [
    "from lis_functions import create_geojson_js, append_js_to_html\n",
    "\n",
    "# STEP 1 create geojson.js file \n",
    "\n",
    "#geojson_file_path = 'PAL11/PAL11.shp.geojson'\n",
    "geojson_file_path = output_geojson\n",
    "template_js_path = 'templates/geojson_template.js'\n",
    "root_path = projectname.value + '/geojson.js'\n",
    "#root_path = 'PAL11/geojson.js'\n",
    "\n",
    "\n",
    "create_geojson_js(geojson_file_path, template_js_path, root_path)\n",
    "\n",
    "# STEP 2 append the js file to the html file\n",
    "\n",
    "# RUN\n",
    "js_file_path = root_path\n",
    "\n",
    "html_file_path = projectname.value + '/' + 'openlayers.html'\n",
    "\n",
    "new_htmlfile_path = projectname.value + '/index.html' # output file\n",
    "\n",
    "append_js_to_html(js_file_path, html_file_path, new_htmlfile_path)\n",
    "\n"
   ]
  },
  {
   "cell_type": "markdown",
   "metadata": {},
   "source": [
    "# 5. Add popups to the map\n",
    "\n",
    "Adding a Javascript template for the feature that implement pop-up function to the web-viewer\n",
    "\n",
    "#TODO workin on `geojson_template.js`"
   ]
  },
  {
   "cell_type": "markdown",
   "metadata": {},
   "source": []
  },
  {
   "cell_type": "code",
   "execution_count": 29,
   "metadata": {},
   "outputs": [
    {
     "name": "stdout",
     "output_type": "stream",
     "text": [
      "File updated: PAL11/index.html\n",
      "File copied to PAL11\n"
     ]
    }
   ],
   "source": [
    "\n",
    "\n",
    "from bs4 import BeautifulSoup\n",
    "\n",
    "def add_popup(JStemplate,CSSTemplate,Html_path):\n",
    "    \"\"\"\n",
    "    Function to add HTML strings and append JS and CSS to the HTML created with \n",
    "    gdal2tiles and %append_js_to_html function.\n",
    "\n",
    "    This function copy and reneame the template files (JS,CSS) in the\n",
    "    folder destination, only html file will be modified.\n",
    "\n",
    "    Args:\n",
    "        JStemplate (str): path to the javascript template file,\n",
    "        CSSTemplate (str): path to the CSS template file,\n",
    "        Html_path (str): path to the html file to modify\n",
    "    \"\"\"\n",
    "    # STEP 1 add html code\n",
    "\n",
    "    # read html files:\n",
    "    with open(Html_path, 'r') as f:\n",
    "        html_content = f.read()\n",
    "    \n",
    "    \n",
    "\n",
    "    # Open html with BeautifulSoup\n",
    "    soup = BeautifulSoup(html_content, 'html.parser')\n",
    "\n",
    "    # Create new HTML content\n",
    "    new_div = \"\"\"\n",
    "    <div id=\"popup\" class=\"ol-popup\">\n",
    "        <a href=\"#\" id=\"popup-closer\" class=\"ol-popup-closer\"></a>\n",
    "        <div id=\"popup-content\"></div>\n",
    "    </div>\n",
    "    \"\"\"\n",
    "    # Find the precise point to insert the new HTML\n",
    "    before_div = soup.find('div', id='map')\n",
    "    if before_div:\n",
    "        before_div.insert_after(BeautifulSoup(new_div, 'html.parser'))\n",
    "    else:\n",
    "        print('Error: tag id not found in HTML file')\n",
    "\n",
    "\n",
    "    # Create a new script\n",
    "    scrbasename = os.path.basename(JStemplate)\n",
    "    script_tag = soup.new_tag('script', src = scrbasename)\n",
    "\n",
    "    # create DOM element\n",
    "    script_tag.string = ' '\n",
    "    if soup.body:\n",
    "        soup.body.append(script_tag)\n",
    "    else:\n",
    "        print('Error accessing to html file')\n",
    "\n",
    "    # Create a new CSS link\n",
    "    cssbasename = os.path.basename(CSSTemplate)\n",
    "    css_tag = soup.new_tag('link', rel='stylesheet', href=cssbasename)\n",
    "    # add CSS link to the head\n",
    "    if soup.head:\n",
    "        soup.head.append(css_tag)\n",
    "    else:\n",
    "        print('Error accessing to html file during CSS link creation')\n",
    "\n",
    "    with open(Html_path, 'w') as f:\n",
    "        f.write(str(soup))\n",
    "    \n",
    "    print(f'File updated: {Html_path}')\n",
    "\n",
    "\n",
    "    # STEP 2 copy JS and CSS file to the root folder of html\n",
    "    import shutil\n",
    "    rootfolder = os.path.dirname(Html_path)\n",
    "    shutil.copy2(JStemplate, rootfolder)\n",
    "    shutil.copy2(CSSTemplate, rootfolder)\n",
    "\n",
    "    print(f'File copied to {rootfolder}')\n",
    "\n",
    "    return\n",
    "\n",
    "add_popup('templates/geojson_popup.js','templates/geojson_popup.css','PAL11/index.html')"
   ]
  },
  {
   "cell_type": "markdown",
   "metadata": {},
   "source": [
    "***other way***\n",
    "\n",
    "1. add html code\n",
    "\n",
    "```html\n",
    "<script src=\"https://cdn.jsdelivr.net/npm/ol-ext@4.0.23/dist/ol-ext.min.js\"></script>\n",
    "# <link href=\"https://cdn.jsdelivr.net/npm/ol-ext@4.0.23/dist/ol-ext.min.css\" rel=\"stylesheet\">\n",
    "```\n",
    "\n",
    "2. create new html like:\n",
    "\n",
    "Copyright (c) 2017-2018 Jean-Marc VIGLINO, released under CeCILL-B (french BSD like) licence: http://www.cecill.info/\n",
    "\n",
    "https://github.com/Viglino/ol-ext/blob/master/examples/popup/map.popup.feature.html\n",
    "\n",
    "---\n",
    "\n",
    "3. in JS modify like this\n",
    "\n",
    "```javascript\n",
    "// Select  interaction\n",
    "  var select = new ol.interaction.Select({\n",
    "    hitTolerance: 5,\n",
    "    multi: true,\n",
    "    condition: ol.events.condition.singleClick\n",
    "  });\n",
    "  map.addInteraction(select);\n",
    "\n",
    "  // Select control\n",
    "  var popup = new ol.Overlay.PopupFeature({\n",
    "    popupClass: 'default anim',\n",
    "    select: select,\n",
    "    canFix: true,\n",
    "    /** /\n",
    "    template: function(f) {\n",
    "      return {\n",
    "        title: function(f) { return f.get('nom')+' ('+f.get('id')+')' },\n",
    "        attributes: { \n",
    "          region: { title: 'Région' }, \n",
    "          arrond: 'arrond', \n",
    "          cantons: 'cantons', \n",
    "          communes: 'communes', \n",
    "          pop: 'pop' \n",
    "        }\n",
    "      }\n",
    "    },\n",
    "    /**/\n",
    "    template: {\n",
    "        title: \n",
    "          // 'nom',   // only display the name\n",
    "          function(f) {\n",
    "            return f.get('nom')+' ('+f.get('id')+')';\n",
    "          },\n",
    "        attributes: // [ 'region', 'arrond', 'cantons', 'communes', 'pop' ]\n",
    "        {\n",
    "          'region': { title: 'Région' },\n",
    "          'arrond': { title: 'Arrondissement' },\n",
    "          'cantons': { title: 'Cantons' },\n",
    "          'communes': { title: 'Communes' },\n",
    "          // with prefix and suffix\n",
    "          'pop': { \n",
    "            title: 'Population',  // attribute's title\n",
    "            before: '',           // something to add before\n",
    "            format: ol.Overlay.PopupFeature.localString(),  // format as local string\n",
    "            after: ' hab.'        // something to add after\n",
    "          },\n",
    "          // calculated attribute\n",
    "          'pop2': {\n",
    "            title: 'Population (kHab.)',  // attribute's title\n",
    "            format: function(val, f) { \n",
    "              return Math.round(parseInt(f.get('pop'))/100).toLocaleString() + ' kHab.' \n",
    "            }\n",
    "          }\n",
    "          /* Using localString with a date * /\n",
    "          'date': { \n",
    "            title: 'Date', \n",
    "            format: ol.Overlay.PopupFeature.localString(undefined, { weekday: 'long', year: 'numeric', month: 'long', day: 'numeric' }) \n",
    "          }\n",
    "          /**/\n",
    "        }\n",
    "    }\n",
    "  });\n",
    "  map.addOverlay (popup);\n",
    "\n",
    "  // Event on attribute click\n",
    "  popup.on('attribute', console.log)\n",
    "```"
   ]
  },
  {
   "cell_type": "code",
   "execution_count": null,
   "metadata": {},
   "outputs": [],
   "source": []
  }
 ],
 "metadata": {
  "kernelspec": {
   "display_name": "metpetools",
   "language": "python",
   "name": "python3"
  },
  "language_info": {
   "codemirror_mode": {
    "name": "ipython",
    "version": 3
   },
   "file_extension": ".py",
   "mimetype": "text/x-python",
   "name": "python",
   "nbconvert_exporter": "python",
   "pygments_lexer": "ipython3",
   "version": "3.11.1"
  }
 },
 "nbformat": 4,
 "nbformat_minor": 2
}
