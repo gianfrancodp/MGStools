{
 "cells": [
  {
   "cell_type": "markdown",
   "metadata": {},
   "source": [
    "# Shp to Html\n",
    "\n",
    "This script converts a shapefile with polygons to an HTML image map."
   ]
  },
  {
   "cell_type": "code",
   "execution_count": 2,
   "metadata": {},
   "outputs": [
    {
     "name": "stderr",
     "output_type": "stream",
     "text": [
      "/Users/gianfrancodipietro/Library/CloudStorage/OneDrive-UniversitàdegliStudidiCatania/MetPet/metpetools/metpetools/lib/python3.11/site-packages/osgeo/ogr.py:593: FutureWarning: Neither ogr.UseExceptions() nor ogr.DontUseExceptions() has been explicitly called. In GDAL 4.0, exceptions will be enabled by default.\n",
      "  warnings.warn(\n"
     ]
    }
   ],
   "source": [
    "from osgeo import ogr\n",
    "# !!! User inputs !!!\n",
    "shapefile_path = r'sample_data/TOR1/TOR1.shp'\n",
    "raster_path = r'sample_data/TOR1/TOR1.jpg'\n",
    "\n",
    "# Use True to export as single page HTML, script add header and footer tags\n",
    "# to be able to open the file in a browser\n",
    "export_as_html_single_page = True \n",
    "\n",
    "def fix_coords(coords, origin='top-left'):\n",
    "    '''\n",
    "    Transform floating coordinates to integers and fixes their values based on\n",
    "    origin. Removes the last couple, which coincides with the first.\n",
    "\n",
    "    Parameters\n",
    "    ----------\n",
    "    coords : list\n",
    "        List of (x, y) tuples.\n",
    "    origin : str, optional\n",
    "        Origin of the coordinates. Only the 'top-left' origin is currently\n",
    "        available. The default is 'top-left'.\n",
    "\n",
    "    Raises\n",
    "    ------\n",
    "    NotImplementedError\n",
    "        Only 'top-left' origin is implemented.\n",
    "\n",
    "    Returns\n",
    "    -------\n",
    "    fixed : list\n",
    "        List of fixed (x, y) tuples.\n",
    "\n",
    "    '''\n",
    "    del coords[-1] # remove last coord\n",
    "\n",
    "    if origin == 'top-left':\n",
    "        fixed = [(int(round(x, 0)), int(round(abs(y), 0))) for x, y in coords]\n",
    "        return fixed\n",
    "    else:\n",
    "        raise NotImplementedError(f\"Can't convert coords with origin {origin}\")\n",
    "\n",
    "\n",
    "\n",
    "# Set a global variable that tracks the occurrence of inner rings in polygons\n",
    "inner_rings_detected = 0\n",
    "\n",
    "# Set a global variable that holds the list of vertices of each polygon\n",
    "polygons_vert = []\n",
    "\n",
    "# Open the shapefile\n",
    "shapefile = ogr.Open(shapefile_path)\n",
    "\n",
    "# Get the layer\n",
    "layer = shapefile.GetLayer()\n",
    "\n",
    "\n",
    "\n"
   ]
  },
  {
   "cell_type": "code",
   "execution_count": 3,
   "metadata": {},
   "outputs": [
    {
     "name": "stdout",
     "output_type": "stream",
     "text": [
      "Warning: 23 holes detected. Not handled.\n"
     ]
    }
   ],
   "source": [
    "# Iterate over the features in the layer\n",
    "for feature in layer:\n",
    "    geometry = feature.geometry()\n",
    "\n",
    "    # Track inner rings\n",
    "    n_rings = geometry.GetGeometryCount()\n",
    "    if n_rings > 1:\n",
    "        inner_rings_detected += n_rings-1\n",
    "\n",
    "    # We only get vertices of outer ring (= first element of GetGeometryRef)\n",
    "    vertices = geometry.GetGeometryRef(0).GetPoints()\n",
    "    polygons_vert.append(fix_coords(vertices))\n",
    "\n",
    "\n",
    "# Send warning if inner rings (holes) have been detected\n",
    "if inner_rings_detected:\n",
    "    print(f'Warning: {inner_rings_detected} holes detected. Not handled.')\n",
    "\n"
   ]
  },
  {
   "cell_type": "code",
   "execution_count": 5,
   "metadata": {},
   "outputs": [],
   "source": [
    "# Generate HTML code with header and footer tags\n",
    "if export_as_html_single_page == True:\n",
    "    html_head = '<!DOCTYPE html>\\n<html>\\n<head>\\n\\t<title>Image Map</title>\\n'\\\n",
    "        '\\t<meta charset=\"utf-8\">\\n</head>\\n<body>\\n'\n",
    "    html_foot = '</body>\\n</html>'    \n",
    "# Generate HTML code without header and footer tags\n",
    "else:\n",
    "    html_head = ''\n",
    "    html_foot = ''\n",
    "\n",
    "image_block = f'<img src=\"{raster_path}\" usemap=\"#image-map\" '\\\n",
    "               'style=\"width: 100%; height: auto;\">\\n'\n",
    "\n",
    "polygons_block = '<map name=\"image-map\">\\n'\n",
    "for n, p in enumerate(polygons_vert, start=1):\n",
    "    coords_str = str(p)[1:-1].replace('(','').replace(')','').replace(' ','')\n",
    "    line = f'\\t<area target=\"_blank\" id=\"imgzone{n}\" '\\\n",
    "           f'alt=\"Element #{n}\" title=\"Element #{n}\" '\\\n",
    "           f'coords=\"{coords_str}\" shape=\"poly\">\\n'\n",
    "    polygons_block += line\n",
    "polygons_block += '</map>'"
   ]
  },
  {
   "cell_type": "code",
   "execution_count": 6,
   "metadata": {},
   "outputs": [],
   "source": [
    "\n",
    "# Save as file\n",
    "\n",
    "with open('HTML_out.html-test', 'w') as out_file:\n",
    "    out_file.write(html_head)\n",
    "    out_file.write(image_block)\n",
    "    out_file.write('\\n')\n",
    "    out_file.write(polygons_block)\n",
    "    out_file.write(html_foot)"
   ]
  }
 ],
 "metadata": {
  "kernelspec": {
   "display_name": "metpetools",
   "language": "python",
   "name": "python3"
  },
  "language_info": {
   "codemirror_mode": {
    "name": "ipython",
    "version": 3
   },
   "file_extension": ".py",
   "mimetype": "text/x-python",
   "name": "python",
   "nbconvert_exporter": "python",
   "pygments_lexer": "ipython3",
   "version": "3.11.1"
  }
 },
 "nbformat": 4,
 "nbformat_minor": 2
}
