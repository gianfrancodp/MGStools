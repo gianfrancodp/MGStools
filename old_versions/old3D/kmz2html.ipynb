{
 "cells": [
  {
   "cell_type": "markdown",
   "metadata": {},
   "source": [
    "# kmz2html\n",
    "\n",
    "Authors: @gianfrancodp, @albdag - CC-BY-SA\n",
    "\n",
    "## Introduction\n",
    "The web-based representation of three-dimensional objects is achieved through the utilization of 3D rendering libraries designed for geometric models. Among these, the predominant free and open-source solution is [Three.JS](https://github.com/mrdoob/three.js/), a JavaScript library renowned for its capacity to manage both raw geometric data and models conforming to standardized formats.\n",
    "\n",
    "This particular implementation employs the [KMZ Loader](https://github.com/mrdoob/three.js/blob/dev/examples/jsm/loaders/KMZLoader.js), an add-on module within the Three.JS framework, enabling the seamless integration of KMZ files.\n",
    "\n",
    "\n",
    "## Python Environment Requirement\n",
    "using `pip` to install these dependencies\n",
    "* os\n",
    "* ZipFile\n",
    "* ipywidgets\n",
    "* IPython.display\n",
    "\n",
    "## The *html-template* file\n",
    "\n",
    "The file [htmltemplate.py](htmltemplate.py) contains a collection of string variables storing the HTML structure of a 3D model viewer, along with auxiliary functions.  Leveraging Python, this structure facilitates the dynamic generation of customized HTML, tailored to specific input data. To enhance comprehension of the process involved in packaging this web viewer, a step-by-step analysis of the HTML elements is employed.\n",
    "\n",
    "The subsequent sequence of items adheres to the order of variables and functions utilized:\n",
    "\n",
    "|Variable of function name|Description|\n",
    "|---|---|\n",
    "|1. `KMZ_HTMLHEAD`| Html header, title of page and simple meta tag|\n",
    "|2. `KMZ_IMPORTLIBS`|Script for import Three.JS from a CDN server, in this version we use unpkg.com|\n",
    "|3. `KMZ_THREEJS_ADDONS_FILES_ADD_TO_PROJECT(projectName)`|Function to create folder and file for packaging|\n",
    "|4. `KMZ_OPENINGSCRIPT`|The html row of script that open customized code for viewer|\n",
    "|5. `KMZ_LOADINGIMAGE(SPLASHIMAGE_URI)`|Function to create Javascript code that load an GIFimage as a splash screen|\n",
    "|6. `KMZ_THREEJS_script(KMZ_URI)`|Function to create JS code for loading an KMZ file|\n",
    "|7. `KMZ_CLOSINGSCRIPT`|String with HTML code for closing script tag|\n",
    "|8. `KMZ_STYLE`|Html code with CSS nested|\n",
    "|9. `KMZ_HTMLFOOT`|Html code with closing tag and footer|\n",
    "\n",
    "The more important step is the #6. For a better viewing there are essential little customization to do with every specific model.\n",
    "\n",
    "- Set or fix custom coordinates of the center position of the model loaded using `KMZLoader` JS function\n",
    "- Set or fix custom coordinates of camera center using `THREE.PerspectiveCamera` JS function\n",
    "- Set different light and rendering options.\n",
    "\n",
    "It is recommended to implement these modifications directly within the HTML/JavaScript code following the generation of the initial HTML structure using Python. Identifying the specific values requiring adjustments for coordinates and other variables is a straightforward process within this context.\n",
    "\n",
    "## The *three* local folder\n",
    "Due to the inherent limitations of Content Delivery Networks (CDNs) in effectively serving these specific files, and to mitigate potential complications arising from Cross-Origin Resource Sharing (CORS) restrictions, a preferred strategy involves their local storage and retrieval directly within the KMZ model file.\n",
    "\n",
    "The [three](three) subfolder contains add-ons and other JavaScript files imported from the Three.JS project. All of this files is a dump copy from [Three.JS](https://github.com/mrdoob/three.js/).\n",
    "\n",
    "For maintaing the default structure of Three.JS there are stored using the structure: `three/addons/jsm` inside this folder there are 3 subfolders:\n",
    "- `three/addons/jsm/controls` It contain the *OrbitControl* module for navigation feature of 3D scene\n",
    "- `three/addons/jsm/libs` It contain *fflate* module (fast JavaScript compression/decompression) for increase rendering speed\n",
    "- `three/addons/jsm/loaders` It contain *ColladaLoader*, *KMZLoader* and *TGALoader* modules of Three.Js\n",
    "\n",
    "\n",
    "\n",
    "\n"
   ]
  },
  {
   "cell_type": "code",
   "execution_count": 1,
   "metadata": {},
   "outputs": [
    {
     "data": {
      "application/vnd.jupyter.widget-view+json": {
       "model_id": "3c89835658914ba2864baac6ddef5b5f",
       "version_major": 2,
       "version_minor": 0
      },
      "text/plain": [
       "Label(value='Select the model file (please do not ecceed 20MB)')"
      ]
     },
     "metadata": {},
     "output_type": "display_data"
    },
    {
     "data": {
      "application/vnd.jupyter.widget-view+json": {
       "model_id": "704dce2e8feb43c0b78ec65d1f52c479",
       "version_major": 2,
       "version_minor": 0
      },
      "text/plain": [
       "FileUpload(value=(), accept='.kmz', description='KMZ file')"
      ]
     },
     "metadata": {},
     "output_type": "display_data"
    },
    {
     "data": {
      "application/vnd.jupyter.widget-view+json": {
       "model_id": "b41ee192ac03432482f73a4a122c2bd6",
       "version_major": 2,
       "version_minor": 0
      },
      "text/plain": [
       "Label(value='Select the project name')"
      ]
     },
     "metadata": {},
     "output_type": "display_data"
    },
    {
     "data": {
      "application/vnd.jupyter.widget-view+json": {
       "model_id": "cd834971dd0345ab93981049470635e4",
       "version_major": 2,
       "version_minor": 0
      },
      "text/plain": [
       "Text(value='', description='Name:', placeholder='NAME')"
      ]
     },
     "metadata": {},
     "output_type": "display_data"
    },
    {
     "data": {
      "application/vnd.jupyter.widget-view+json": {
       "model_id": "0cd0f7ca98bb41b8be67df6e0021d38b",
       "version_major": 2,
       "version_minor": 0
      },
      "text/plain": [
       "Label(value='Select the splashscreen GIF animation (please do not ecceed 5MB)')"
      ]
     },
     "metadata": {},
     "output_type": "display_data"
    },
    {
     "data": {
      "application/vnd.jupyter.widget-view+json": {
       "model_id": "ce50997ca7184408bf8e76c5c73c2561",
       "version_major": 2,
       "version_minor": 0
      },
      "text/plain": [
       "FileUpload(value=(), accept='.gif', description='Upload')"
      ]
     },
     "metadata": {},
     "output_type": "display_data"
    },
    {
     "data": {
      "application/vnd.jupyter.widget-view+json": {
       "model_id": "44d0aa53b56648a0be343e1222ecf9b5",
       "version_major": 2,
       "version_minor": 0
      },
      "text/plain": [
       "Label(value='Note:..')"
      ]
     },
     "metadata": {},
     "output_type": "display_data"
    }
   ],
   "source": [
    "import os\n",
    "from zipfile import ZipFile\n",
    "import ipywidgets as widgets\n",
    "from IPython.display import display\n",
    "import htmltemplate as ht\n",
    "\n",
    "KMZfile_selector = widgets.FileUpload(\n",
    "    description='KMZ file',\n",
    "    accept='.kmz',  \n",
    "    multiple=False  \n",
    ")\n",
    "projectname = widgets.Text(\n",
    "    description='Name:',\n",
    "    placeholder='NAME'\n",
    ")\n",
    "\n",
    "splashimageGIF = widgets.FileUpload(\n",
    "    descritpion='Splashscreen image',\n",
    "    accept='.gif',\n",
    "    multiple=False\n",
    ")\n",
    "\n",
    "labelKMZ = widgets.Label(value='Select the model file (please do not ecceed 20MB)')\n",
    "labelName = widgets.Label(value='Select the project name')\n",
    "labelSplash = widgets.Label(value='Select the splashscreen GIF animation (please do not ecceed 5MB)')\n",
    "disclaimer = widgets.Label(value='Note:..')\n",
    "display(labelKMZ, KMZfile_selector, labelName, projectname, labelSplash,splashimageGIF, disclaimer)\n"
   ]
  },
  {
   "cell_type": "code",
   "execution_count": 2,
   "metadata": {},
   "outputs": [
    {
     "name": "stdout",
     "output_type": "stream",
     "text": [
      "TEST11\n",
      "test.kmz\n"
     ]
    }
   ],
   "source": [
    "#TEST 11\n",
    "NAME = projectname.value\n",
    "KMZ = KMZfile_selector.value\n",
    "KMZ_filename = next(iter(KMZ))['name']\n",
    "KMZ_content = next(iter(KMZ))['content']\n",
    "SPLASHIMAGE = splashimageGIF.value\n",
    "SplashImage_filename = next(iter(SPLASHIMAGE))['name']\n",
    "SplashImage_content = next(iter(SPLASHIMAGE))['content']\n",
    "\n",
    "print(NAME)\n",
    "print(KMZ_filename)\n",
    "#print(SplashImage_filename)\n",
    "#Create main folder and save file inside it\n",
    "os.makedirs(NAME, exist_ok=True)\n",
    "\n",
    "with open(f'{NAME}/' + KMZ_filename, 'wb') as f:\n",
    "     f.write(KMZ_content)\n",
    "     f.close()\n",
    "\n",
    "with open(f'{NAME}/' + SplashImage_filename, 'wb') as f:\n",
    "     f.write(SplashImage_content)\n",
    "     f.close()\n",
    "\n",
    "#prepare folder and files\n",
    "ht.KMZ_THREEJS_ADDONS_FILES_ADD_TO_PROJECT(NAME)\n",
    "\n",
    "html_filename = f'{NAME}/{NAME}.html'\n",
    "with open(html_filename, 'w', encoding=\"utf-8\") as out_file:\n",
    "    out_file.write(ht.KMZ_HTMLHEAD)\n",
    "    out_file.write(ht.KMZ_IMPORTLIBS)\n",
    "    out_file.write(ht.KMZ_OPENINGSCRIPT)\n",
    "    out_file.write(ht.KMZ_LOADINGIMAGE(SplashImage_filename))\n",
    "    out_file.write(ht.KMZ_THREEJS_script(KMZ_filename))\n",
    "    out_file.write(ht.KMZ_CLOSINGSCRIPT)\n",
    "    out_file.write(ht.KMZ_STYLE)\n",
    "    out_file.write(ht.KMZ_HTMLFOOT)\n"
   ]
  }
 ],
 "metadata": {
  "kernelspec": {
   "display_name": "metpetools",
   "language": "python",
   "name": "python3"
  },
  "language_info": {
   "codemirror_mode": {
    "name": "ipython",
    "version": 3
   },
   "file_extension": ".py",
   "mimetype": "text/x-python",
   "name": "python",
   "nbconvert_exporter": "python",
   "pygments_lexer": "ipython3",
   "version": "3.11.1"
  }
 },
 "nbformat": 4,
 "nbformat_minor": 2
}
