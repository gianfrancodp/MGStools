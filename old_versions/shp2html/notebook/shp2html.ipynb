{
 "cells": [
  {
   "cell_type": "markdown",
   "metadata": {},
   "source": [
    "# shp2html\n",
    "\n",
    "This script converts a shapefile with polygons to an HTML image map.\n",
    "\n",
    "Input requirement:\n",
    "\n",
    "\n",
    "\n",
    "### How to prepare Python environment\n",
    "\n",
    "Requirement for python environment\n",
    "\n",
    "1. Install native GDAL\n",
    "    On Mac or unix-like system\n",
    "\n",
    "    `sudo apt-get install gdal-bin`\n",
    "\n",
    "    On macOS with homebrew\n",
    "\n",
    "    `brew install gdal`\n",
    "\n",
    "2. Create Python virtual environment \n",
    "\n",
    "    `virtualenv metpetools` \n",
    "\n",
    "3. Activate virtual environment\n",
    "\n",
    "    `source ./bin/activate`\n",
    "\n",
    "4. Install python dependencies\n",
    "\n",
    "    `pip install GDAL`\n",
    "    \n",
    "    `pip install jupyter`\n"
   ]
  },
  {
   "cell_type": "markdown",
   "metadata": {},
   "source": [
    "## RUN\n",
    "\n",
    "After starting this cell go to the bottom of the cell and select the files with the widgets provided.\n"
   ]
  },
  {
   "cell_type": "code",
   "execution_count": 1,
   "metadata": {},
   "outputs": [
    {
     "data": {
      "application/vnd.jupyter.widget-view+json": {
       "model_id": "7095305d0a0b44c68ece562fbf7dfae0",
       "version_major": 2,
       "version_minor": 0
      },
      "text/plain": [
       "Label(value='Select ALL the shapefile files [.shp, .dbf, .shx, .cpg]')"
      ]
     },
     "metadata": {},
     "output_type": "display_data"
    },
    {
     "data": {
      "application/vnd.jupyter.widget-view+json": {
       "model_id": "7fe86567357f4afbb6d24d273f86b02f",
       "version_major": 2,
       "version_minor": 0
      },
      "text/plain": [
       "FileUpload(value=(), accept='.shp, .dbf, .shx, .cpg', description='Shapefile', multiple=True)"
      ]
     },
     "metadata": {},
     "output_type": "display_data"
    },
    {
     "data": {
      "application/vnd.jupyter.widget-view+json": {
       "model_id": "f0798bc2c4194a76a5420f18d036504c",
       "version_major": 2,
       "version_minor": 0
      },
      "text/plain": [
       "Label(value='Select the Image file')"
      ]
     },
     "metadata": {},
     "output_type": "display_data"
    },
    {
     "data": {
      "application/vnd.jupyter.widget-view+json": {
       "model_id": "c5df86a0a38c4b69ae2e92e4af1cfcb8",
       "version_major": 2,
       "version_minor": 0
      },
      "text/plain": [
       "FileUpload(value=(), description='Image')"
      ]
     },
     "metadata": {},
     "output_type": "display_data"
    },
    {
     "data": {
      "application/vnd.jupyter.widget-view+json": {
       "model_id": "204f53dec2a24669b05c426080ccd215",
       "version_major": 2,
       "version_minor": 0
      },
      "text/plain": [
       "Label(value='Select the project name')"
      ]
     },
     "metadata": {},
     "output_type": "display_data"
    },
    {
     "data": {
      "application/vnd.jupyter.widget-view+json": {
       "model_id": "5825cfc21eca4680a3afd0bd3c7f4dba",
       "version_major": 2,
       "version_minor": 0
      },
      "text/plain": [
       "Text(value='', description='Name:', placeholder='NAME')"
      ]
     },
     "metadata": {},
     "output_type": "display_data"
    },
    {
     "data": {
      "application/vnd.jupyter.widget-view+json": {
       "model_id": "ce27900afb504215b0a62dd834e1264b",
       "version_major": 2,
       "version_minor": 0
      },
      "text/plain": [
       "Label(value='Note: ouptut file will be saved as NAME.ZIP')"
      ]
     },
     "metadata": {},
     "output_type": "display_data"
    }
   ],
   "source": [
    "import json\n",
    "import os\n",
    "from zipfile import ZipFile\n",
    "from osgeo import ogr\n",
    "import ipywidgets as widgets\n",
    "from IPython.display import display\n",
    "\n",
    "\n",
    "Shapefile_selector = widgets.FileUpload(\n",
    "    description='Shapefile',\n",
    "    accept='.shp, .dbf, .shx, .cpg',  \n",
    "    multiple=True  \n",
    ")\n",
    "\n",
    "\n",
    "Jpgfile_selector = widgets.FileUpload(\n",
    "    description='Image',\n",
    "    accept='',  \n",
    "    multiple=False  \n",
    ")\n",
    "projectname = widgets.Text(\n",
    "    description='Name:',\n",
    "    placeholder='NAME'\n",
    ")\n",
    "\n",
    "\n",
    "labelShp = widgets.Label(value='Select ALL the shapefile files [.shp, .dbf, .shx, .cpg]')\n",
    "labelImg = widgets.Label(value='Select the Image file')\n",
    "labelName = widgets.Label(value='Select the project name')\n",
    "disclaimer = widgets.Label(value='Note: ouptut file will be saved as NAME.ZIP')\n",
    "display(labelShp, Shapefile_selector, labelImg, Jpgfile_selector, labelName, projectname, disclaimer)\n",
    "\n",
    "\n",
    "\n"
   ]
  },
  {
   "cell_type": "code",
   "execution_count": 2,
   "metadata": {},
   "outputs": [
    {
     "name": "stderr",
     "output_type": "stream",
     "text": [
      "/Volumes/Dati/000 - Dottorato UNICT/NAS_Geologia/metpetools_repo/metpetools/lib/python3.11/site-packages/osgeo/ogr.py:593: FutureWarning: Neither ogr.UseExceptions() nor ogr.DontUseExceptions() has been explicitly called. In GDAL 4.0, exceptions will be enabled by default.\n",
      "  warnings.warn(\n"
     ]
    },
    {
     "name": "stdout",
     "output_type": "stream",
     "text": [
      "Warning: 560 holes detected. Not handled.\n"
     ]
    }
   ],
   "source": [
    "from htmltemplate import HTMLHEAD\n",
    "from htmltemplate import HTMLFOOT\n",
    "from lib import polygoniterate\n",
    "from lib import fix_coords\n",
    "#from libshp2html import polygoniterate\n",
    "\n",
    "NAME = projectname.value\n",
    "\n",
    "SHAPEFILE = ''\n",
    "# Get the uploaded files from the widgets\n",
    "shapefiledata = iter(Shapefile_selector.value)\n",
    "for filename in shapefiledata:\n",
    "    with open(filename['name'], 'wb') as f:\n",
    "        f.write(filename['content'])\n",
    "    # set the shapefile name variable\n",
    "    ShpFileName = filename['name']\n",
    "    if ShpFileName.endswith('.shp'):\n",
    "        SHAPEFILE = ShpFileName\n",
    "\n",
    "# shapefile_data = next(iter(Shapefile_selector.value))\n",
    "jpgfile_data = next(iter(Jpgfile_selector.value))\n",
    "\n",
    "# Write the content of the file to disk\n",
    "# with open(shapefile_data['name'], 'wb') as f:\n",
    "#     f.write(shapefile_data['content'])\n",
    "\n",
    "with open(jpgfile_data['name'], 'wb') as f:\n",
    "    f.write(jpgfile_data['content'])\n",
    "\n",
    "\n",
    "# set paths to the uploaded files\n",
    "# SHAPEFILE = shapefiledata['name']\n",
    "RASTER = jpgfile_data['name']\n",
    "\n",
    "# Set a global variable that tracks the occurrence of inner rings in polygons\n",
    "INRINGS = 0\n",
    "\n",
    "# Set a global variable that holds the list of vertices of each polygon\n",
    "polygons_vert = []\n",
    "# set a global variable that holds the list of attributes of each polygon\n",
    "attributes_list = []\n",
    "\n",
    "# Open the shapefile\n",
    "\n",
    "shapefile = ogr.Open(SHAPEFILE)\n",
    "\n",
    "# Get the layer\n",
    "layer = shapefile.GetLayer()\n",
    "\n",
    "\n",
    "result = polygoniterate(layer, attributes_list, INRINGS, polygons_vert)\n",
    "attributes_list = result[0] # get the attributes list\n",
    "polygons_vert = result[1] # get the vertices list\n",
    "\n",
    "image_block = f'<img src=\"{RASTER}\" usemap=\"#image-map\" '\\\n",
    "               'style=\"width: 100%; height: auto;\">\\n'\n",
    "\n",
    "HTMLPOLYGONS = '<map name=\"image-map\">\\n'\n",
    "for a, p in zip(attributes_list, polygons_vert):\n",
    "    coordstr = str(p)[1:-1].replace('(','').replace(')','').replace(' ','')\n",
    "    id_ = a['OBJECTID']\n",
    "    line = f'\\t<area target=\"_blank\" id=\"imgzone{id_}\" '\\\n",
    "           f'alt=\"Element #{id_}\" title=\"Element #{id_}\" '\\\n",
    "           f'coords=\"{coordstr}\" shape=\"poly\">\\n'\n",
    "    HTMLPOLYGONS += line\n",
    "HTMLPOLYGONS += '</map>\\n'\n",
    "\n",
    "html_path = rf'{NAME}.html'\n",
    "AttributeTable_path = rf'{NAME}.json'\n",
    "\n",
    "# Save as file\n",
    "with open(html_path, 'w', encoding=\"utf-8\") as out_file:\n",
    "    out_file.write(HTMLHEAD)\n",
    "    out_file.write(image_block)\n",
    "    out_file.write('\\n')\n",
    "    out_file.write(HTMLPOLYGONS)\n",
    "    out_file.write(HTMLFOOT)\n",
    "\n",
    "with open(f'{NAME}.json', 'w', encoding=\"utf-8\") as f:\n",
    "    json.dump(attributes_list, f)\n",
    "\n",
    "\n",
    "# Create zip file\n",
    "with ZipFile(rf'{NAME}.zip', 'w') as outzip:\n",
    "    outzip.write(RASTER)\n",
    "    outzip.write(html_path)\n",
    "    outzip.write(AttributeTable_path)\n",
    "\n",
    "# Remove files\n",
    "os.remove(html_path)\n",
    "os.remove(AttributeTable_path)\n",
    "os.remove(RASTER)\n",
    "\n",
    "# remove the uploaded files\n",
    "shapefiledata = iter(Shapefile_selector.value)\n",
    "for filename in shapefiledata:\n",
    "    os.remove(filename['name'])\n",
    "    # with open(filename['name'], 'wb') as f:\n",
    "    #     f.write(filename['content'])\n",
    "    # # set the shapefile name variable\n",
    "    # ShpFileName = filename['name']\n",
    "    # if ShpFileName.endswith('.shp'):\n",
    "    #     SHAPEFILE = ShpFileName\n",
    "    #     break\n"
   ]
  }
 ],
 "metadata": {
  "kernelspec": {
   "display_name": "metpetools",
   "language": "python",
   "name": "python3"
  },
  "language_info": {
   "codemirror_mode": {
    "name": "ipython",
    "version": 3
   },
   "file_extension": ".py",
   "mimetype": "text/x-python",
   "name": "python",
   "nbconvert_exporter": "python",
   "pygments_lexer": "ipython3",
   "version": "3.11.1"
  }
 },
 "nbformat": 4,
 "nbformat_minor": 2
}
