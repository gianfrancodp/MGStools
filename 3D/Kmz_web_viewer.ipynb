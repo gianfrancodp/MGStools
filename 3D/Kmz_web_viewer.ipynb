{
 "cells": [
  {
   "cell_type": "markdown",
   "metadata": {},
   "source": [
    "# Generate a static webpage viewer of an KMZ model using Three.js\n",
    "\n"
   ]
  },
  {
   "cell_type": "markdown",
   "metadata": {},
   "source": [
    "Authors: @gianfrancodp, @albdag - CC-BY-SA\n",
    "\n",
    "## Introduction\n",
    "The web-based representation of three-dimensional objects is achieved through the utilization of 3D rendering libraries designed for geometric models. Among these, the predominant free and open-source solution is [Three.JS](https://github.com/mrdoob/three.js/), a JavaScript library renowned for its capacity to manage both raw geometric data and models conforming to standardized formats.\n",
    "\n",
    "This particular implementation employs the [KMZ Loader](https://github.com/mrdoob/three.js/blob/dev/examples/jsm/loaders/KMZLoader.js), an add-on module within the Three.JS framework, enabling the seamless integration of KMZ files.\n",
    "\n",
    "\n",
    "## Python Environment Requirement\n",
    "using `pip` to install these dependencies\n",
    "* os\n",
    "* ZipFile\n",
    "* ipywidgets\n",
    "* IPython.display\n",
    "\n",
    "## Introduction\n",
    "The web-based representation of three-dimensional objects is achieved through the utilization of 3D rendering libraries designed for geometric models. Among these, the predominant free and open-source solution is [Three.JS](https://github.com/mrdoob/three.js/), a JavaScript library renowned for its capacity to manage both raw geometric data and models conforming to standardized formats.\n",
    "\n",
    "This particular implementation employs the [KMZ Loader](https://github.com/mrdoob/three.js/blob/dev/examples/jsm/loaders/KMZLoader.js), an add-on module within the Three.JS framework, enabling the seamless integration of KMZ files.\n",
    "\n",
    "\n",
    "## Python Environment Requirement\n",
    "using `pip` to install these dependencies\n",
    "* os\n",
    "* ZipFile\n",
    "* ipywidgets\n",
    "* IPython.display\n",
    "\n",
    "## The *KMZViewer_functions.py* file\n",
    "\n",
    "The file [KMZViewer_functions.py](KMZViewer_functions.py) contains a collection of string variables storing the HTML structure of a 3D model viewer, along with auxiliary functions.  Leveraging Python, this structure facilitates the dynamic generation of customized HTML, tailored to specific input data. To enhance comprehension of the process involved in packaging this web viewer, a step-by-step analysis of the HTML elements is employed.\n",
    "\n",
    "The subsequent sequence of items adheres to the order of variables and functions utilized:\n",
    "\n",
    "|Variable of function name|Description|\n",
    "|---|---|\n",
    "|1. `KMZ_HTMLHEAD`| Html header, title of page and simple meta tag|\n",
    "|2. `KMZ_IMPORTLIBS`|Script for import Three.JS from a CDN server, in this version we use unpkg.com|\n",
    "|3. `KMZ_THREEJS_ADDONS_FILES_ADD_TO_PROJECT(projectName)`|Function to create folder and file for packaging|\n",
    "|4. `KMZ_OPENINGSCRIPT`|The html row of script that open customized code for viewer|\n",
    "|5. `KMZ_LOADINGIMAGE(SPLASHIMAGE_URI)`|Function to create Javascript code that load an GIFimage as a splash screen|\n",
    "|6. `KMZ_THREEJS_script(KMZ_URI)`|Function to create JS code for loading an KMZ file|\n",
    "|7. `KMZ_CLOSINGSCRIPT`|String with HTML code for closing script tag|\n",
    "|8. `KMZ_STYLE`|Html code with CSS nested|\n",
    "|9. `KMZ_HTMLFOOT`|Html code with closing tag and footer|\n",
    "\n",
    "The more important step is the #6. For a better viewing there are essential little customization to do with every specific model.\n",
    "\n",
    "- Set or fix custom coordinates of the center position of the model loaded using `KMZLoader` JS function\n",
    "- Set or fix custom coordinates of camera center using `THREE.PerspectiveCamera` JS function\n",
    "- Set different light and rendering options.\n",
    "\n",
    "It is recommended to implement these modifications directly within the HTML/JavaScript code following the generation of the initial HTML structure using Python. Identifying the specific values requiring adjustments for coordinates and other variables is a straightforward process within this context.\n",
    "\n",
    "### The **`create_3dml_viewer()`** function\n",
    "At the end of the [KMZViewer_functions.py](KMZViewer_functions.py) file, a function called: `create_3mdl_viewer()` runs the 9 step before, and it is possible to call with 3 input variables:\n",
    "\n",
    "|Input name|type|description|\n",
    "|---|---|---|\n",
    "|NAME|string|The name of the project used for creation of a folder with the output files|\n",
    "|KMZ|File|The file data uploaded from a iPyWidget instance that contain the KMZ|\n",
    "|SPLASHIMAGE|File|The file data uploaded from a iPyWidget instance that contain the splashscreen image|\n",
    "\n",
    "## The *three* local folder\n",
    "Due to the inherent limitations of Content Delivery Networks (CDNs) in effectively serving these specific files, and to mitigate potential complications arising from Cross-Origin Resource Sharing (CORS) restrictions, a preferred strategy involves their local storage and retrieval directly within the KMZ model file.\n",
    "\n",
    "The [three](three) subfolder contains add-ons and other JavaScript files imported from the Three.JS project. All of this files is a dump copy from [Three.JS](https://github.com/mrdoob/three.js/).\n",
    "\n",
    "For maintaing the default structure of Three.JS there are stored using the structure: `three/addons/jsm` inside this folder there are 3 subfolders:\n",
    "- `three/addons/jsm/controls` It contain the *OrbitControl* module for navigation feature of 3D scene\n",
    "- `three/addons/jsm/libs` It contain *fflate* module (fast JavaScript compression/decompression) for increase rendering speed\n",
    "- `three/addons/jsm/loaders` It contain *ColladaLoader*, *KMZLoader* and *TGALoader* modules of Three.Js"
   ]
  },
  {
   "cell_type": "code",
   "execution_count": 1,
   "metadata": {},
   "outputs": [
    {
     "data": {
      "application/vnd.jupyter.widget-view+json": {
       "model_id": "dc46046c12994816826b917da6a5b4e4",
       "version_major": 2,
       "version_minor": 0
      },
      "text/plain": [
       "Label(value='Select the model file (please do not ecceed 20MB)')"
      ]
     },
     "metadata": {},
     "output_type": "display_data"
    },
    {
     "data": {
      "application/vnd.jupyter.widget-view+json": {
       "model_id": "7a644b3406aa467e91f1ba1bf0e6b64d",
       "version_major": 2,
       "version_minor": 0
      },
      "text/plain": [
       "FileUpload(value=(), accept='.kmz', description='KMZ file')"
      ]
     },
     "metadata": {},
     "output_type": "display_data"
    },
    {
     "data": {
      "application/vnd.jupyter.widget-view+json": {
       "model_id": "cc3e5245e55d4af0a2c542714b0d715a",
       "version_major": 2,
       "version_minor": 0
      },
      "text/plain": [
       "Label(value='Select the project name')"
      ]
     },
     "metadata": {},
     "output_type": "display_data"
    },
    {
     "data": {
      "application/vnd.jupyter.widget-view+json": {
       "model_id": "c37d558d90674437a584556b73b576b6",
       "version_major": 2,
       "version_minor": 0
      },
      "text/plain": [
       "Text(value='', description='Name:', placeholder='NAME')"
      ]
     },
     "metadata": {},
     "output_type": "display_data"
    },
    {
     "data": {
      "application/vnd.jupyter.widget-view+json": {
       "model_id": "eb8b8cd68028495c97107c23bd7c2f64",
       "version_major": 2,
       "version_minor": 0
      },
      "text/plain": [
       "Label(value='Select the splashscreen GIF animation (please do not ecceed 5MB)')"
      ]
     },
     "metadata": {},
     "output_type": "display_data"
    },
    {
     "data": {
      "application/vnd.jupyter.widget-view+json": {
       "model_id": "5608b54bfc3e40648214d83f958edd56",
       "version_major": 2,
       "version_minor": 0
      },
      "text/plain": [
       "FileUpload(value=(), accept='.gif', description='Upload')"
      ]
     },
     "metadata": {},
     "output_type": "display_data"
    },
    {
     "data": {
      "application/vnd.jupyter.widget-view+json": {
       "model_id": "0b220a77b1e14ecb85d87f306df896d3",
       "version_major": 2,
       "version_minor": 0
      },
      "text/plain": [
       "Label(value='Note:..')"
      ]
     },
     "metadata": {},
     "output_type": "display_data"
    }
   ],
   "source": [
    "import KMZViewer_functions as kv # Kv is for KMZ-Viewer\n",
    "\n",
    "# Step 1: Upload the KMZ file\n",
    "projectname, KMZfile, splash_img_file = kv.upload_files_widget()\n"
   ]
  },
  {
   "cell_type": "code",
   "execution_count": 2,
   "metadata": {},
   "outputs": [
    {
     "name": "stdout",
     "output_type": "stream",
     "text": [
      "test\n",
      "test.kmz\n",
      "3D model viewer saved in test folder\n"
     ]
    }
   ],
   "source": [
    "# Step 2: Run static webpage generator\n",
    "\n",
    "kv.create_3dml_viewer(projectname, KMZfile, splash_img_file)"
   ]
  }
 ],
 "metadata": {
  "kernelspec": {
   "display_name": "metpetools",
   "language": "python",
   "name": "python3"
  },
  "language_info": {
   "codemirror_mode": {
    "name": "ipython",
    "version": 3
   },
   "file_extension": ".py",
   "mimetype": "text/x-python",
   "name": "python",
   "nbconvert_exporter": "python",
   "pygments_lexer": "ipython3",
   "version": "3.11.1"
  }
 },
 "nbformat": 4,
 "nbformat_minor": 2
}
