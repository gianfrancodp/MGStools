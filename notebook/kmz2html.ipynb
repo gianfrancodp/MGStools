{
 "cells": [
  {
   "cell_type": "markdown",
   "metadata": {},
   "source": [
    "# kmz2html\n",
    "\n",
    "### notebook for create a webviewer of an KMZ 3D model\n",
    "\n",
    "NOTE: the subfolder \"three\" is using to import Javascript file inside html output."
   ]
  },
  {
   "cell_type": "code",
   "execution_count": 1,
   "metadata": {},
   "outputs": [
    {
     "data": {
      "application/vnd.jupyter.widget-view+json": {
       "model_id": "3c89835658914ba2864baac6ddef5b5f",
       "version_major": 2,
       "version_minor": 0
      },
      "text/plain": [
       "Label(value='Select the model file (please do not ecceed 20MB)')"
      ]
     },
     "metadata": {},
     "output_type": "display_data"
    },
    {
     "data": {
      "application/vnd.jupyter.widget-view+json": {
       "model_id": "704dce2e8feb43c0b78ec65d1f52c479",
       "version_major": 2,
       "version_minor": 0
      },
      "text/plain": [
       "FileUpload(value=(), accept='.kmz', description='KMZ file')"
      ]
     },
     "metadata": {},
     "output_type": "display_data"
    },
    {
     "data": {
      "application/vnd.jupyter.widget-view+json": {
       "model_id": "b41ee192ac03432482f73a4a122c2bd6",
       "version_major": 2,
       "version_minor": 0
      },
      "text/plain": [
       "Label(value='Select the project name')"
      ]
     },
     "metadata": {},
     "output_type": "display_data"
    },
    {
     "data": {
      "application/vnd.jupyter.widget-view+json": {
       "model_id": "cd834971dd0345ab93981049470635e4",
       "version_major": 2,
       "version_minor": 0
      },
      "text/plain": [
       "Text(value='', description='Name:', placeholder='NAME')"
      ]
     },
     "metadata": {},
     "output_type": "display_data"
    },
    {
     "data": {
      "application/vnd.jupyter.widget-view+json": {
       "model_id": "0cd0f7ca98bb41b8be67df6e0021d38b",
       "version_major": 2,
       "version_minor": 0
      },
      "text/plain": [
       "Label(value='Select the splashscreen GIF animation (please do not ecceed 5MB)')"
      ]
     },
     "metadata": {},
     "output_type": "display_data"
    },
    {
     "data": {
      "application/vnd.jupyter.widget-view+json": {
       "model_id": "ce50997ca7184408bf8e76c5c73c2561",
       "version_major": 2,
       "version_minor": 0
      },
      "text/plain": [
       "FileUpload(value=(), accept='.gif', description='Upload')"
      ]
     },
     "metadata": {},
     "output_type": "display_data"
    },
    {
     "data": {
      "application/vnd.jupyter.widget-view+json": {
       "model_id": "44d0aa53b56648a0be343e1222ecf9b5",
       "version_major": 2,
       "version_minor": 0
      },
      "text/plain": [
       "Label(value='Note:..')"
      ]
     },
     "metadata": {},
     "output_type": "display_data"
    }
   ],
   "source": [
    "import os\n",
    "from zipfile import ZipFile\n",
    "import ipywidgets as widgets\n",
    "from IPython.display import display\n",
    "import htmltemplate as ht\n",
    "\n",
    "KMZfile_selector = widgets.FileUpload(\n",
    "    description='KMZ file',\n",
    "    accept='.kmz',  \n",
    "    multiple=False  \n",
    ")\n",
    "projectname = widgets.Text(\n",
    "    description='Name:',\n",
    "    placeholder='NAME'\n",
    ")\n",
    "\n",
    "splashimageGIF = widgets.FileUpload(\n",
    "    descritpion='Splashscreen image',\n",
    "    accept='.gif',\n",
    "    multiple=False\n",
    ")\n",
    "\n",
    "labelKMZ = widgets.Label(value='Select the model file (please do not ecceed 20MB)')\n",
    "labelName = widgets.Label(value='Select the project name')\n",
    "labelSplash = widgets.Label(value='Select the splashscreen GIF animation (please do not ecceed 5MB)')\n",
    "disclaimer = widgets.Label(value='Note:..')\n",
    "display(labelKMZ, KMZfile_selector, labelName, projectname, labelSplash,splashimageGIF, disclaimer)\n"
   ]
  },
  {
   "cell_type": "code",
   "execution_count": 2,
   "metadata": {},
   "outputs": [
    {
     "name": "stdout",
     "output_type": "stream",
     "text": [
      "TEST11\n",
      "test.kmz\n"
     ]
    }
   ],
   "source": [
    "#TEST 11\n",
    "NAME = projectname.value\n",
    "KMZ = KMZfile_selector.value\n",
    "KMZ_filename = next(iter(KMZ))['name']\n",
    "KMZ_content = next(iter(KMZ))['content']\n",
    "SPLASHIMAGE = splashimageGIF.value\n",
    "SplashImage_filename = next(iter(SPLASHIMAGE))['name']\n",
    "SplashImage_content = next(iter(SPLASHIMAGE))['content']\n",
    "\n",
    "print(NAME)\n",
    "print(KMZ_filename)\n",
    "#print(SplashImage_filename)\n",
    "#Create main folder and save file inside it\n",
    "os.makedirs(NAME, exist_ok=True)\n",
    "\n",
    "with open(f'{NAME}/' + KMZ_filename, 'wb') as f:\n",
    "     f.write(KMZ_content)\n",
    "     f.close()\n",
    "\n",
    "with open(f'{NAME}/' + SplashImage_filename, 'wb') as f:\n",
    "     f.write(SplashImage_content)\n",
    "     f.close()\n",
    "\n",
    "#prepare folder and files\n",
    "ht.KMZ_THREEJS_ADDONS_FILES_ADD_TO_PROJECT(NAME)\n",
    "\n",
    "html_filename = f'{NAME}/{NAME}.html'\n",
    "with open(html_filename, 'w', encoding=\"utf-8\") as out_file:\n",
    "    out_file.write(ht.KMZ_HTMLHEAD)\n",
    "    out_file.write(ht.KMZ_IMPORTLIBS)\n",
    "    out_file.write(ht.KMZ_OPENINGSCRIPT)\n",
    "    out_file.write(ht.KMZ_LOADINGIMAGE(SplashImage_filename))\n",
    "    out_file.write(ht.KMZ_THREEJS_script(KMZ_filename))\n",
    "    out_file.write(ht.KMZ_CLOSINGSCRIPT)\n",
    "    out_file.write(ht.KMZ_STYLE)\n",
    "    out_file.write(ht.KMZ_HTMLFOOT)\n"
   ]
  }
 ],
 "metadata": {
  "kernelspec": {
   "display_name": "metpetools",
   "language": "python",
   "name": "python3"
  },
  "language_info": {
   "codemirror_mode": {
    "name": "ipython",
    "version": 3
   },
   "file_extension": ".py",
   "mimetype": "text/x-python",
   "name": "python",
   "nbconvert_exporter": "python",
   "pygments_lexer": "ipython3",
   "version": "3.11.1"
  }
 },
 "nbformat": 4,
 "nbformat_minor": 2
}
