{
 "cells": [
  {
   "cell_type": "markdown",
   "metadata": {},
   "source": [
    "# Create a local information system of a Thin-Section\n",
    "\n",
    "### TEST files\n",
    "\n",
    "requirements:\n",
    "\n",
    "- Python 3\n",
    "- GDAL\n",
    "\n",
    "## 1. Input and settings\n",
    "\n",
    "In this section we collect input data and global settings.\n",
    "We assume that we have a raster file of a Thin-section digitalized in any way and we have defined a polygon feature that overlay minerals or other elements of the thin-section.\n",
    "\n",
    "The poligon feature layer must be in a GIS-readable format.\n",
    "We use gadl2tiles with no-crs definition"
   ]
  },
  {
   "cell_type": "code",
   "execution_count": 1,
   "metadata": {},
   "outputs": [
    {
     "name": "stdout",
     "output_type": "stream",
     "text": [
      "Python 3 detected. OK.\n",
      "GDAL version: 3.8.5\n"
     ]
    }
   ],
   "source": [
    "# verify Python version\n",
    "import sys\n",
    "if sys.version_info[0] < 3:\n",
    "    raise Exception(\"Python 3 not detected.\")\n",
    "else :\n",
    "    print(\"Python 3 detected. OK.\")\n",
    "\n",
    "# verify GDAL version\n",
    "try:\n",
    "    from osgeo import gdal\n",
    "    print(f\"GDAL version: {gdal.__version__}\")\n",
    "except ImportError:\n",
    "    raise ImportError(\"GDAL not detected.\")"
   ]
  },
  {
   "cell_type": "markdown",
   "metadata": {},
   "source": [
    "# 1. Import files\n",
    "\n",
    "In this section we use `upload_files_widgets` from `lis_function.py` to import data and files usinng widgets.\n",
    "\n",
    "Next, store the file in a local subfolder with the same name of \"project name\" gived by the user."
   ]
  },
  {
   "cell_type": "code",
   "execution_count": 2,
   "metadata": {},
   "outputs": [
    {
     "data": {
      "application/vnd.jupyter.widget-view+json": {
       "model_id": "fc1cf1dcf94942eca8269e870e05a4e9",
       "version_major": 2,
       "version_minor": 0
      },
      "text/plain": [
       "Label(value='Select ALL the shapefile files [.shp, .dbf, .shx, .cpg]')"
      ]
     },
     "metadata": {},
     "output_type": "display_data"
    },
    {
     "data": {
      "application/vnd.jupyter.widget-view+json": {
       "model_id": "d1339b0154f5497fb957a0a4d53f47e6",
       "version_major": 2,
       "version_minor": 0
      },
      "text/plain": [
       "FileUpload(value=(), accept='.shp, .dbf, .shx, .cpg', description='Shapefile polygon layer', multiple=True)"
      ]
     },
     "metadata": {},
     "output_type": "display_data"
    },
    {
     "data": {
      "application/vnd.jupyter.widget-view+json": {
       "model_id": "16b8983350864ba2a0778c21db8dd2a6",
       "version_major": 2,
       "version_minor": 0
      },
      "text/plain": [
       "Label(value='Select the Image file')"
      ]
     },
     "metadata": {},
     "output_type": "display_data"
    },
    {
     "data": {
      "application/vnd.jupyter.widget-view+json": {
       "model_id": "e8dc5386c31a4ade815f6325f87c5549",
       "version_major": 2,
       "version_minor": 0
      },
      "text/plain": [
       "FileUpload(value=(), description='Image')"
      ]
     },
     "metadata": {},
     "output_type": "display_data"
    },
    {
     "data": {
      "application/vnd.jupyter.widget-view+json": {
       "model_id": "f5d7498a0a974bf8810dd47059c2b9c7",
       "version_major": 2,
       "version_minor": 0
      },
      "text/plain": [
       "Label(value='Select the project name')"
      ]
     },
     "metadata": {},
     "output_type": "display_data"
    },
    {
     "data": {
      "application/vnd.jupyter.widget-view+json": {
       "model_id": "ec10f7d703c3454c96dd5446e6d2353c",
       "version_major": 2,
       "version_minor": 0
      },
      "text/plain": [
       "Text(value='', description='Name:', placeholder='NAME')"
      ]
     },
     "metadata": {},
     "output_type": "display_data"
    },
    {
     "data": {
      "application/vnd.jupyter.widget-view+json": {
       "model_id": "e9f809c9c8ae4525a1af9dc02ddeab45",
       "version_major": 2,
       "version_minor": 0
      },
      "text/plain": [
       "Label(value='Note: ouptut folder will be created in the same directory as the input files')"
      ]
     },
     "metadata": {},
     "output_type": "display_data"
    }
   ],
   "source": [
    "# Input widgets\n",
    "\n",
    "from lis_functions import upload_files_widgets\n",
    "Shapefile_selector, Jpgfile_selector, projectname = upload_files_widgets()\n",
    "# Shapefile_selector, Jpgfile_selector, projectname, EPSGcode = upload_files_widgets()\n"
   ]
  },
  {
   "cell_type": "code",
   "execution_count": 3,
   "metadata": {},
   "outputs": [],
   "source": [
    "from lis_functions import save_to_temp_dir\n",
    "import os\n",
    "\n",
    "# Save file to a temporary directory\n",
    "\n",
    "files_path = save_to_temp_dir(Shapefile_selector, Jpgfile_selector, projectname.value)\n",
    "\n",
    "# Run gdal2tiles\n"
   ]
  },
  {
   "cell_type": "markdown",
   "metadata": {},
   "source": [
    "# 2. Create Raster tiles using Gdal\n",
    "\n",
    "Using a subprocess, we run the function `run_gdal2tiles`, that launch the gdal2tiles procedure in terminal.\n",
    "\n",
    "By default a simple webviewer is written and stored in openalayer.html file inside the project folder."
   ]
  },
  {
   "cell_type": "code",
   "execution_count": 4,
   "metadata": {},
   "outputs": [
    {
     "name": "stdout",
     "output_type": "stream",
     "text": [
      "WARNING! - Directory already exists, Files will be overwrited! Continue? (Y).\n"
     ]
    },
    {
     "name": "stderr",
     "output_type": "stream",
     "text": [
      "Generating Base Tiles:\n"
     ]
    },
    {
     "name": "stdout",
     "output_type": "stream",
     "text": [
      "0...10...20...30...40...50...60...70...80...90...100 - done.\n",
      "0."
     ]
    },
    {
     "name": "stderr",
     "output_type": "stream",
     "text": [
      "Generating Overview Tiles:\n"
     ]
    },
    {
     "name": "stdout",
     "output_type": "stream",
     "text": [
      "..10...20...30...40...50...60...70...80...90...100 - done.\n",
      "Tiles stored in: test_PAL11\n"
     ]
    }
   ],
   "source": [
    "from lis_functions import run_gdal2tiles\n",
    "\n",
    "# Create raster tiles using gdal2tiles\n",
    "# for customization see function in lis_functions.py\n",
    "\n",
    "run_gdal2tiles(files_path['Raster_path'], projectname.value)\n"
   ]
  },
  {
   "cell_type": "markdown",
   "metadata": {},
   "source": [
    "## TODO\n",
    "\n",
    "- For further implementation read `tilemapsoruce.xml` file generated after gdal2tiles subprocess\n",
    "\n"
   ]
  },
  {
   "cell_type": "markdown",
   "metadata": {},
   "source": [
    "# 3. Create LIS map viewer of data\n",
    "\n",
    "## 3.1 Convert SHP to geojson using GDAL ogr2ogr\n",
    "\n",
    "Using a subprocess we convert in GeoJson the shapefiles provided\n"
   ]
  },
  {
   "cell_type": "code",
   "execution_count": 5,
   "metadata": {},
   "outputs": [
    {
     "name": "stdout",
     "output_type": "stream",
     "text": [
      "Conversion completed: test_PAL11/PAL11.shp.geojson\n"
     ]
    }
   ],
   "source": [
    "\n",
    "\n",
    "import subprocess\n",
    "import os\n",
    "\n",
    "def convert_shp_to_geojson(input_shp, output_geojson):\n",
    "    \"\"\"\n",
    "    SHP to GeoJSON conversion using ogr2ogr.\n",
    "    \n",
    "    Args:\n",
    "        input_shp (str): path to the input SHP file.\n",
    "        output_geojson (str): path to the output GeoJSON file.\n",
    "    \"\"\"\n",
    "    try:\n",
    "        # gdal string command\n",
    "        ogr2ogr_command = [\n",
    "            'ogr2ogr',\n",
    "            '-f', 'GeoJSON',  # output format\n",
    "            output_geojson,   # output file\n",
    "            input_shp         # input file\n",
    "        ]\n",
    "        \n",
    "        # RUN\n",
    "        subprocess.run(ogr2ogr_command, check=True)\n",
    "        print(f'Conversion completed: {output_geojson}')\n",
    "    except subprocess.CalledProcessError as e:\n",
    "        print(f'{e}')\n",
    "\n",
    "# Example\n",
    "input_shp = files_path['Shp_file_path']\n",
    "\n",
    "output_geojson = projectname.value + '/' + os.path.basename(input_shp) +'.geojson'\n",
    "\n",
    "convert_shp_to_geojson(input_shp, output_geojson)"
   ]
  },
  {
   "cell_type": "markdown",
   "metadata": {},
   "source": [
    "## 3.2 add GeoJson to defautl openalyers.html file\n",
    "\n",
    "We access the openalyers.html defautl file generated by gdal2tiles and add some simple javascript code to overlay the previously created GeoJSON.\n",
    "\n",
    "1. We use the `geojson_template.js` a JavaScript file prepared with the script code to be added to mapviewer, in the next cell simply we change the placeholder to the current GeoJSON file.\n",
    "2. We create the javascript code and add it as a source script to the `openlayers.html` file generated earlier by the gdal2tiles subprocess\n",
    "\n",
    "\n",
    "**NOTE**: For a correct map overlay in browser, we assume that the nominal reference system is EPSG:3857, the same one used by default by OpenLayers in the web view. If other SRSs are used, vector overlay to raster tiles is uncorrect.\n",
    "This is a fictitious assumption just for running webviewer. It works only if Vector Layer and Raster Layer are alredy correct overlapped previously and was saved without SRS definition"
   ]
  },
  {
   "cell_type": "code",
   "execution_count": 6,
   "metadata": {},
   "outputs": [
    {
     "name": "stdout",
     "output_type": "stream",
     "text": [
      "File created: test_PAL11/geojson.js\n",
      "File updated: test_PAL11/openlayers_updated.html\n"
     ]
    }
   ],
   "source": [
    "from lis_functions import create_geojson_js, append_js_to_html\n",
    "\n",
    "# STEP 1 create geojson.js file \n",
    "geojson_file_path = output_geojson\n",
    "template_js_path = 'geojson_template.js'\n",
    "destination_path = projectname.value + '/geojson.js'\n",
    "\n",
    "create_geojson_js(geojson_file_path, template_js_path, destination_path)\n",
    "\n",
    "# STEP 2 append the js file to the html file\n",
    "\n",
    "# RUN\n",
    "js_file_path = destination_path\n",
    "html_file_path = projectname.value + '/' + 'openlayers.html'\n",
    "new_htmlfile_path = projectname.value + '/openlayers_updated.html'\n",
    "\n",
    "append_js_to_html(js_file_path, html_file_path, new_htmlfile_path)"
   ]
  },
  {
   "cell_type": "code",
   "execution_count": null,
   "metadata": {},
   "outputs": [],
   "source": [
    "#TODO: check default zoom level and remove title and other not needed elements from the html file"
   ]
  }
 ],
 "metadata": {
  "kernelspec": {
   "display_name": "metpetools",
   "language": "python",
   "name": "python3"
  },
  "language_info": {
   "codemirror_mode": {
    "name": "ipython",
    "version": 3
   },
   "file_extension": ".py",
   "mimetype": "text/x-python",
   "name": "python",
   "nbconvert_exporter": "python",
   "pygments_lexer": "ipython3",
   "version": "3.11.1"
  }
 },
 "nbformat": 4,
 "nbformat_minor": 2
}
