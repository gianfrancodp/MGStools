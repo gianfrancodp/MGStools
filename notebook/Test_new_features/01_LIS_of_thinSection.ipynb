{
 "cells": [
  {
   "cell_type": "markdown",
   "metadata": {},
   "source": [
    "# Create a local information system of a Thin-Section\n",
    "\n",
    "### TEST files\n",
    "\n",
    "requirements:\n",
    "\n",
    "- Python 3\n",
    "- GDAL\n",
    "\n",
    "## 1. Input and settings\n",
    "\n",
    "In this section we collect input data and global settings.\n",
    "We assume that we have a raster file of a Thin-section digitalized in any way and we have defined a polygon feature that overlay minerals or other elements of the thin-section.\n",
    "\n",
    "The poligon feature layer must be in a GIS-readable format.\n",
    "We can't use a custom CRS (probaly non geospatial), because GDAL command do not work.\n",
    "\n",
    "TODO: modify GDAL scripts or make a custom script version of `gdal2tiles.py` able to work with non-geospatial and custom CRS."
   ]
  },
  {
   "cell_type": "code",
   "execution_count": 1,
   "metadata": {},
   "outputs": [
    {
     "name": "stdout",
     "output_type": "stream",
     "text": [
      "Python 3 detected. OK.\n",
      "GDAL version: 3.8.5\n"
     ]
    }
   ],
   "source": [
    "# verify Python version\n",
    "import sys\n",
    "if sys.version_info[0] < 3:\n",
    "    raise Exception(\"Python 3 not detected.\")\n",
    "else :\n",
    "    print(\"Python 3 detected. OK.\")\n",
    "\n",
    "# verify GDAL version\n",
    "try:\n",
    "    from osgeo import gdal\n",
    "    print(f\"GDAL version: {gdal.__version__}\")\n",
    "except ImportError:\n",
    "    raise ImportError(\"GDAL not detected.\")"
   ]
  },
  {
   "cell_type": "code",
   "execution_count": 2,
   "metadata": {},
   "outputs": [
    {
     "data": {
      "application/vnd.jupyter.widget-view+json": {
       "model_id": "4fea2d3a20e642609619f10cd7120166",
       "version_major": 2,
       "version_minor": 0
      },
      "text/plain": [
       "Label(value='Select ALL the shapefile files [.shp, .dbf, .shx, .cpg]')"
      ]
     },
     "metadata": {},
     "output_type": "display_data"
    },
    {
     "data": {
      "application/vnd.jupyter.widget-view+json": {
       "model_id": "baadfe67b45b482da0a2006c8303bc60",
       "version_major": 2,
       "version_minor": 0
      },
      "text/plain": [
       "FileUpload(value=(), accept='.shp, .dbf, .shx, .cpg', description='Shapefile polygon layer', multiple=True)"
      ]
     },
     "metadata": {},
     "output_type": "display_data"
    },
    {
     "data": {
      "application/vnd.jupyter.widget-view+json": {
       "model_id": "619b51ab57ca4516a811cfe147ceabf3",
       "version_major": 2,
       "version_minor": 0
      },
      "text/plain": [
       "Label(value='Select the Image file')"
      ]
     },
     "metadata": {},
     "output_type": "display_data"
    },
    {
     "data": {
      "application/vnd.jupyter.widget-view+json": {
       "model_id": "a6986f1d35564a12a0ca4d6cd7c178d6",
       "version_major": 2,
       "version_minor": 0
      },
      "text/plain": [
       "FileUpload(value=(), description='Image')"
      ]
     },
     "metadata": {},
     "output_type": "display_data"
    },
    {
     "data": {
      "application/vnd.jupyter.widget-view+json": {
       "model_id": "50b35fc6aff04178a28ade37440aa7db",
       "version_major": 2,
       "version_minor": 0
      },
      "text/plain": [
       "Label(value='Select the project name')"
      ]
     },
     "metadata": {},
     "output_type": "display_data"
    },
    {
     "data": {
      "application/vnd.jupyter.widget-view+json": {
       "model_id": "de073ecff74944498cc455524fe21262",
       "version_major": 2,
       "version_minor": 0
      },
      "text/plain": [
       "Text(value='', description='Name:', placeholder='NAME')"
      ]
     },
     "metadata": {},
     "output_type": "display_data"
    },
    {
     "data": {
      "application/vnd.jupyter.widget-view+json": {
       "model_id": "0cdf47c961a7421baf560b827a4c4d4e",
       "version_major": 2,
       "version_minor": 0
      },
      "text/plain": [
       "Label(value='Select the EPSG code of files (not work with custom projection)')"
      ]
     },
     "metadata": {},
     "output_type": "display_data"
    },
    {
     "data": {
      "application/vnd.jupyter.widget-view+json": {
       "model_id": "bff7204e6a634344ac5b43a098d93a07",
       "version_major": 2,
       "version_minor": 0
      },
      "text/plain": [
       "Text(value='', description='EPSG:', placeholder='EPSG code')"
      ]
     },
     "metadata": {},
     "output_type": "display_data"
    },
    {
     "data": {
      "application/vnd.jupyter.widget-view+json": {
       "model_id": "c93d9ab68a3e4ebbb95ee9c24244ecc8",
       "version_major": 2,
       "version_minor": 0
      },
      "text/plain": [
       "Label(value='Note: ouptut folder will be created in the same directory as the input files')"
      ]
     },
     "metadata": {},
     "output_type": "display_data"
    }
   ],
   "source": [
    "# Input widgets\n",
    "\n",
    "from lis_functions import upload_files_widgets\n",
    "Shapefile_selector, Jpgfile_selector, projectname, EPSGcode = upload_files_widgets()\n"
   ]
  },
  {
   "cell_type": "code",
   "execution_count": 10,
   "metadata": {},
   "outputs": [
    {
     "name": "stderr",
     "output_type": "stream",
     "text": [
      "Generating Base Tiles:\n"
     ]
    },
    {
     "name": "stdout",
     "output_type": "stream",
     "text": [
      "0...10...20...30...40...50...60...70...80...90...100 - done.\n",
      "0...10"
     ]
    },
    {
     "name": "stderr",
     "output_type": "stream",
     "text": [
      "Generating Overview Tiles:\n"
     ]
    },
    {
     "name": "stdout",
     "output_type": "stream",
     "text": [
      "...20...30...40...50...60...70...80...90...100 - done.\n",
      "Tile generati con successo nella directory: temporary_files\n"
     ]
    }
   ],
   "source": [
    "from lis_functions import save_to_temp_dir\n",
    "\n",
    "temp_raster_path, temp_shp_paths = save_to_temp_dir(Shapefile_selector, Jpgfile_selector)\n",
    "\n",
    "# print(temp_raster_path)\n",
    "# print(temp_shp_paths)\n",
    "\n",
    "# Import subprocess module\n",
    "import subprocess\n",
    "\n",
    "# Raster file path from which to generate tiles\n",
    "input_raster = temp_raster_path\n",
    "\n",
    "# Directory di output per i tile\n",
    "output_directory = 'temporary_files'\n",
    "\n",
    "#input CRS\n",
    "input_crs = 'EPSG:' + EPSGcode.value\n",
    "\n",
    "# Comando gdal2tiles.py\n",
    "gdal2tiles_command = [\n",
    "    'gdal2tiles.py',\n",
    "    '-p', 'raster',\n",
    "    '-z', '0-5',\n",
    "    '-s', input_crs,\n",
    "    input_raster,\n",
    "    output_directory\n",
    "]\n",
    "# Esegui il comando\n",
    "try:\n",
    "    subprocess.run(gdal2tiles_command, check=True)\n",
    "    print(f'Tile generati con successo nella directory: {output_directory}')\n",
    "except subprocess.CalledProcessError as e:\n",
    "    print(f'Errore durante la generazione dei tile: {e}')"
   ]
  }
 ],
 "metadata": {
  "kernelspec": {
   "display_name": "metpetools",
   "language": "python",
   "name": "python3"
  },
  "language_info": {
   "codemirror_mode": {
    "name": "ipython",
    "version": 3
   },
   "file_extension": ".py",
   "mimetype": "text/x-python",
   "name": "python",
   "nbconvert_exporter": "python",
   "pygments_lexer": "ipython3",
   "version": "3.11.1"
  }
 },
 "nbformat": 4,
 "nbformat_minor": 2
}
