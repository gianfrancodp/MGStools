{
 "cells": [
  {
   "cell_type": "markdown",
   "metadata": {},
   "source": [
    "# Create a local information system of a Thin-Section\n",
    "\n",
    "### TEST files\n",
    "\n",
    "requirements:\n",
    "\n",
    "- Python 3\n",
    "- GDAL\n",
    "\n",
    "## 1. Input and settings\n",
    "\n",
    "In this section we collect input data and global settings.\n",
    "We assume that we have a raster file of a Thin-section digitalized in any way and we have defined a polygon feature that overlay minerals or other elements of the thin-section.\n",
    "\n",
    "The poligon feature layer must be in a GIS-readable format.\n",
    "We use gadl2tiles with no-crs definition"
   ]
  },
  {
   "cell_type": "code",
   "execution_count": 1,
   "metadata": {},
   "outputs": [
    {
     "name": "stdout",
     "output_type": "stream",
     "text": [
      "Python 3 detected. OK.\n",
      "GDAL version: 3.8.5\n"
     ]
    }
   ],
   "source": [
    "# verify Python version\n",
    "import sys\n",
    "if sys.version_info[0] < 3:\n",
    "    raise Exception(\"Python 3 not detected.\")\n",
    "else :\n",
    "    print(\"Python 3 detected. OK.\")\n",
    "\n",
    "# verify GDAL version\n",
    "try:\n",
    "    from osgeo import gdal\n",
    "    print(f\"GDAL version: {gdal.__version__}\")\n",
    "except ImportError:\n",
    "    raise ImportError(\"GDAL not detected.\")"
   ]
  },
  {
   "cell_type": "markdown",
   "metadata": {},
   "source": [
    "# 1. Import files\n",
    "\n",
    "In this section we use `upload_files_widgets` from `lis_function.py` to import data and files usinng widgets.\n",
    "\n",
    "GDAL toolbox do not support non-georefernced files, We assume as example that Thin Section is a maps in Aitoff projection (1 pixel is equivalent to a 1 meter of a canonical web map). But if only for tile generation and next for openlayer library visualization. the World_Aitoff reference system is classified by EPSG with the code: `54043`"
   ]
  },
  {
   "cell_type": "code",
   "execution_count": 3,
   "metadata": {},
   "outputs": [
    {
     "data": {
      "application/vnd.jupyter.widget-view+json": {
       "model_id": "ee5da64fad47402fb6446ba8a714e689",
       "version_major": 2,
       "version_minor": 0
      },
      "text/plain": [
       "Label(value='Select ALL the shapefile files [.shp, .dbf, .shx, .cpg]')"
      ]
     },
     "metadata": {},
     "output_type": "display_data"
    },
    {
     "data": {
      "application/vnd.jupyter.widget-view+json": {
       "model_id": "0665ddb33320496596f4cc6435dfdc6f",
       "version_major": 2,
       "version_minor": 0
      },
      "text/plain": [
       "FileUpload(value=(), accept='.shp, .dbf, .shx, .cpg', description='Shapefile polygon layer', multiple=True)"
      ]
     },
     "metadata": {},
     "output_type": "display_data"
    },
    {
     "data": {
      "application/vnd.jupyter.widget-view+json": {
       "model_id": "3ec0c31bb089488d8967f77370f7dc32",
       "version_major": 2,
       "version_minor": 0
      },
      "text/plain": [
       "Label(value='Select the Image file')"
      ]
     },
     "metadata": {},
     "output_type": "display_data"
    },
    {
     "data": {
      "application/vnd.jupyter.widget-view+json": {
       "model_id": "022af7aeb0f24837911bf19fc43531e7",
       "version_major": 2,
       "version_minor": 0
      },
      "text/plain": [
       "FileUpload(value=(), description='Image')"
      ]
     },
     "metadata": {},
     "output_type": "display_data"
    },
    {
     "data": {
      "application/vnd.jupyter.widget-view+json": {
       "model_id": "b473201893f341f99eece6ecdc264841",
       "version_major": 2,
       "version_minor": 0
      },
      "text/plain": [
       "Label(value='Select the project name')"
      ]
     },
     "metadata": {},
     "output_type": "display_data"
    },
    {
     "data": {
      "application/vnd.jupyter.widget-view+json": {
       "model_id": "b0437a229bb64e85b4418e34feda677b",
       "version_major": 2,
       "version_minor": 0
      },
      "text/plain": [
       "Text(value='', description='Name:', placeholder='NAME')"
      ]
     },
     "metadata": {},
     "output_type": "display_data"
    },
    {
     "data": {
      "application/vnd.jupyter.widget-view+json": {
       "model_id": "54e399b6eca04d5499b37b2c99858dd6",
       "version_major": 2,
       "version_minor": 0
      },
      "text/plain": [
       "Label(value='Note: ouptut folder will be created in the same directory as the input files')"
      ]
     },
     "metadata": {},
     "output_type": "display_data"
    }
   ],
   "source": [
    "# Input widgets\n",
    "\n",
    "from lis_functions import upload_files_widgets\n",
    "Shapefile_selector, Jpgfile_selector, projectname = upload_files_widgets()\n",
    "# Shapefile_selector, Jpgfile_selector, projectname, EPSGcode = upload_files_widgets()\n"
   ]
  },
  {
   "cell_type": "code",
   "execution_count": 4,
   "metadata": {},
   "outputs": [],
   "source": [
    "from lis_functions import save_to_temp_dir\n",
    "\n",
    "temp_raster_path, temp_shp_paths = save_to_temp_dir(Shapefile_selector, Jpgfile_selector)\n",
    "\n",
    "# print(temp_raster_path)\n",
    "# print(temp_shp_paths)\n",
    "\n",
    "# Import subprocess module\n",
    "import subprocess\n",
    "\n",
    "# Raster file path from which to generate tiles\n",
    "input_raster = temp_raster_path\n",
    "\n",
    "# Directory di output per i tile\n",
    "output_directory = 'temporary_files'\n",
    "\n",
    "# #input CRS\n",
    "# input_crs = 'EPSG:' + EPSGcode.placeholder\n"
   ]
  },
  {
   "cell_type": "code",
   "execution_count": 5,
   "metadata": {},
   "outputs": [
    {
     "name": "stderr",
     "output_type": "stream",
     "text": [
      "Generating Base Tiles:\n"
     ]
    },
    {
     "name": "stdout",
     "output_type": "stream",
     "text": [
      "0...10...20...30...40...50...60...70...80...90...100 - done.\n",
      "0...10"
     ]
    },
    {
     "name": "stderr",
     "output_type": "stream",
     "text": [
      "Generating Overview Tiles:\n"
     ]
    },
    {
     "name": "stdout",
     "output_type": "stream",
     "text": [
      "...20...30...40...50...60...70...80...90...100 - done.\n",
      "Tile generati con successo nella directory: temporary_files\n"
     ]
    }
   ],
   "source": [
    "\n",
    "# Comando gdal2tiles.py\n",
    "gdal2tiles_command = [\n",
    "    'gdal2tiles.py',\n",
    "    '-p', 'raster',\n",
    "    '-z', '0-5',\n",
    "    # '-s', input_crs, #IT IS WORK widhout CSR definition\n",
    "    input_raster,\n",
    "    output_directory\n",
    "]\n",
    "# Run GDAL subprocess\n",
    "try:\n",
    "    subprocess.run(gdal2tiles_command, check=True)\n",
    "    print(f'Tile generati con successo nella directory: {output_directory}')\n",
    "except subprocess.CalledProcessError as e:\n",
    "    print(f'Errore durante la generazione dei tile: {e}')"
   ]
  },
  {
   "cell_type": "code",
   "execution_count": 6,
   "metadata": {},
   "outputs": [
    {
     "name": "stdout",
     "output_type": "stream",
     "text": [
      "compress: temporary_files.zip\n"
     ]
    }
   ],
   "source": [
    "# zip the output directory and then remove it\n",
    "import shutil\n",
    "import os\n",
    "zip_filename = f\"{output_directory}.zip\"\n",
    "shutil.make_archive(output_directory, 'zip', output_directory)\n",
    "print(f'compress: {zip_filename}')\n",
    "shutil.rmtree(output_directory)\n",
    "\n"
   ]
  },
  {
   "cell_type": "markdown",
   "metadata": {},
   "source": [
    "## TODO\n",
    "\n",
    "- For further implementation read `tilemapsoruce.xml` file generated after gdal2tiles subprocess\n",
    "- creating a customization of this and regenerate the `openlayers.html` file "
   ]
  },
  {
   "cell_type": "markdown",
   "metadata": {},
   "source": []
  }
 ],
 "metadata": {
  "kernelspec": {
   "display_name": "metpetools",
   "language": "python",
   "name": "python3"
  },
  "language_info": {
   "codemirror_mode": {
    "name": "ipython",
    "version": 3
   },
   "file_extension": ".py",
   "mimetype": "text/x-python",
   "name": "python",
   "nbconvert_exporter": "python",
   "pygments_lexer": "ipython3",
   "version": "3.11.1"
  }
 },
 "nbformat": 4,
 "nbformat_minor": 2
}
