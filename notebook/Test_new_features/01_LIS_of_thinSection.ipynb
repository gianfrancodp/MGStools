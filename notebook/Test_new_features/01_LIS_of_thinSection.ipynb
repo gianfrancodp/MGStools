{
 "cells": [
  {
   "cell_type": "markdown",
   "metadata": {},
   "source": [
    "# Create a local information system of a Thin-Section\n",
    "\n",
    "### TEST files\n",
    "\n",
    "requirements:\n",
    "\n",
    "- Python 3\n",
    "- GDAL\n",
    "\n",
    "## 1. Input and settings\n",
    "\n",
    "In this section we collect input data and global settings.\n",
    "We assume that we have a raster file of a Thin-section digitalized in any way and we have defined a polygon feature that overlay minerals or other elements of the thin-section.\n",
    "\n",
    "The poligon feature layer must be in a GIS-readable format.\n",
    "We can't use a custom CRS (probaly non geospatial), because GDAL command do not work.\n",
    "\n",
    "TODO: modify GDAL scripts or make a custom script version of `gdal2tiles.py` able to work with non-geospatial and custom CRS."
   ]
  },
  {
   "cell_type": "code",
   "execution_count": 1,
   "metadata": {},
   "outputs": [
    {
     "name": "stdout",
     "output_type": "stream",
     "text": [
      "Python 3 detected. OK.\n",
      "GDAL version: 3.8.5\n"
     ]
    }
   ],
   "source": [
    "# verify Python version\n",
    "import sys\n",
    "if sys.version_info[0] < 3:\n",
    "    raise Exception(\"Python 3 not detected.\")\n",
    "else :\n",
    "    print(\"Python 3 detected. OK.\")\n",
    "\n",
    "# verify GDAL version\n",
    "try:\n",
    "    from osgeo import gdal\n",
    "    print(f\"GDAL version: {gdal.__version__}\")\n",
    "except ImportError:\n",
    "    raise ImportError(\"GDAL not detected.\")"
   ]
  },
  {
   "cell_type": "code",
   "execution_count": 2,
   "metadata": {},
   "outputs": [
    {
     "data": {
      "application/vnd.jupyter.widget-view+json": {
       "model_id": "71bcc686f3bc4b50ba509371d972c58f",
       "version_major": 2,
       "version_minor": 0
      },
      "text/plain": [
       "Label(value='Select ALL the shapefile files [.shp, .dbf, .shx, .cpg]')"
      ]
     },
     "metadata": {},
     "output_type": "display_data"
    },
    {
     "data": {
      "application/vnd.jupyter.widget-view+json": {
       "model_id": "7c2e0f3b64b242a6a14462426414b609",
       "version_major": 2,
       "version_minor": 0
      },
      "text/plain": [
       "FileUpload(value=(), accept='.shp, .dbf, .shx, .cpg', description='Shapefile polygon layer', multiple=True)"
      ]
     },
     "metadata": {},
     "output_type": "display_data"
    },
    {
     "data": {
      "application/vnd.jupyter.widget-view+json": {
       "model_id": "b01404478cba47bba5d91657351813f1",
       "version_major": 2,
       "version_minor": 0
      },
      "text/plain": [
       "Label(value='Select the Image file')"
      ]
     },
     "metadata": {},
     "output_type": "display_data"
    },
    {
     "data": {
      "application/vnd.jupyter.widget-view+json": {
       "model_id": "921c29a9c3a847a1993b46be7b5243e8",
       "version_major": 2,
       "version_minor": 0
      },
      "text/plain": [
       "FileUpload(value=(), description='Image')"
      ]
     },
     "metadata": {},
     "output_type": "display_data"
    },
    {
     "data": {
      "application/vnd.jupyter.widget-view+json": {
       "model_id": "43d284f8ee764f3cafdca1b13e51f802",
       "version_major": 2,
       "version_minor": 0
      },
      "text/plain": [
       "Label(value='Select the project name')"
      ]
     },
     "metadata": {},
     "output_type": "display_data"
    },
    {
     "data": {
      "application/vnd.jupyter.widget-view+json": {
       "model_id": "f5b37980263d4b9b857cdad0df9b7950",
       "version_major": 2,
       "version_minor": 0
      },
      "text/plain": [
       "Text(value='', description='Name:', placeholder='NAME')"
      ]
     },
     "metadata": {},
     "output_type": "display_data"
    },
    {
     "data": {
      "application/vnd.jupyter.widget-view+json": {
       "model_id": "22729bc56dc546619e1c70dcc7db2ad6",
       "version_major": 2,
       "version_minor": 0
      },
      "text/plain": [
       "Label(value='Select the EPSG code of files (not work with custom projection)')"
      ]
     },
     "metadata": {},
     "output_type": "display_data"
    },
    {
     "data": {
      "application/vnd.jupyter.widget-view+json": {
       "model_id": "871c679d26104a04bc91b0fb52695069",
       "version_major": 2,
       "version_minor": 0
      },
      "text/plain": [
       "Text(value='', description='EPSG:', placeholder='EPSG code')"
      ]
     },
     "metadata": {},
     "output_type": "display_data"
    },
    {
     "data": {
      "application/vnd.jupyter.widget-view+json": {
       "model_id": "d80b30c6a7c44d6995873c0c721cc0a2",
       "version_major": 2,
       "version_minor": 0
      },
      "text/plain": [
       "Label(value='Note: ouptut folder will be created in the same directory as the input files')"
      ]
     },
     "metadata": {},
     "output_type": "display_data"
    }
   ],
   "source": [
    "from lis_functions import upload_files_widgets\n",
    "upload_files_widgets()"
   ]
  },
  {
   "cell_type": "code",
   "execution_count": 3,
   "metadata": {},
   "outputs": [
    {
     "name": "stdout",
     "output_type": "stream",
     "text": [
      "Errore durante la generazione dei tile: Command '['gdal2tiles.py', '-p', 'mercator', '-z', '0-5', 'path/to/your/input.tif', 'path/to/your/output_tiles']' returned non-zero exit status 2.\n"
     ]
    },
    {
     "name": "stderr",
     "output_type": "stream",
     "text": [
      "Usage: gdal2tiles.py [options] input_file [output]\n",
      "\n",
      "gdal2tiles.py: error: The provided input file path/to/your/input.tif does not exist or is not a file\n"
     ]
    }
   ],
   "source": [
    "# Exectute the following code to generate tiles from a raster file\n",
    "\n",
    "from lis_functions import save_to_temp_dir\n",
    "save_to_temp_dir()\n",
    "\n",
    "\n",
    "#Save the uploaded files to the temporary directory\n",
    "import shutil\n",
    "\n",
    "\n",
    "\n",
    "# # Import subprocess module\n",
    "# import subprocess\n",
    "\n",
    "# # Raster file path from which to generate tiles\n",
    "# input_raster = 'path/to/your/input.tif'\n",
    "\n",
    "# # Directory di output per i tile\n",
    "# output_directory = 'path/to/your/output_tiles'\n",
    "\n",
    "# # Comando gdal2tiles.py\n",
    "# gdal2tiles_command = [\n",
    "#     'gdal2tiles.py',\n",
    "#     '-p', 'mercator',\n",
    "#     '-z', '0-5',\n",
    "#     input_raster,\n",
    "#     output_directory\n",
    "# ]\n",
    "# # Esegui il comando\n",
    "# try:\n",
    "#     subprocess.run(gdal2tiles_command, check=True)\n",
    "#     print(f'Tile generati con successo nella directory: {output_directory}')\n",
    "# except subprocess.CalledProcessError as e:\n",
    "#     print(f'Errore durante la generazione dei tile: {e}')"
   ]
  }
 ],
 "metadata": {
  "kernelspec": {
   "display_name": "metpetools",
   "language": "python",
   "name": "python3"
  },
  "language_info": {
   "codemirror_mode": {
    "name": "ipython",
    "version": 3
   },
   "file_extension": ".py",
   "mimetype": "text/x-python",
   "name": "python",
   "nbconvert_exporter": "python",
   "pygments_lexer": "ipython3",
   "version": "3.11.1"
  }
 },
 "nbformat": 4,
 "nbformat_minor": 2
}
