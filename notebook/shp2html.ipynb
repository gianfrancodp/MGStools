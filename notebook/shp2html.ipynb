{
 "cells": [
  {
   "cell_type": "markdown",
   "metadata": {},
   "source": [
    "# shp2html\n",
    "\n",
    "This script converts a shapefile with polygons to an HTML image map.\n",
    "\n",
    "Input requirement:\n",
    "\n",
    "\n",
    "\n",
    "### How to prepare Python environment\n",
    "\n",
    "Requirement for python environment\n",
    "\n",
    "1. Install native GDAL\n",
    "    On Mac or unix-like system\n",
    "\n",
    "    `sudo apt-get install gdal-bin`\n",
    "\n",
    "    On macOS with homebrew\n",
    "\n",
    "    `brew install gdal`\n",
    "\n",
    "2. Create Python virtual environment \n",
    "\n",
    "    `virtualenv metpetools` \n",
    "\n",
    "3. Activate virtual environment\n",
    "\n",
    "    `source ./bin/activate`\n",
    "\n",
    "4. Install python dependencies\n",
    "\n",
    "    `pip install GDAL`\n",
    "    \n",
    "    `pip install jupyter`\n"
   ]
  },
  {
   "cell_type": "markdown",
   "metadata": {},
   "source": [
    "## RUN\n",
    "\n",
    "After starting this cell go to the bottom of the cell and select the files with the widgets provided.\n"
   ]
  },
  {
   "cell_type": "code",
   "execution_count": 1,
   "metadata": {},
   "outputs": [
    {
     "data": {
      "application/vnd.jupyter.widget-view+json": {
       "model_id": "0e5d88bbf949459bb3bb6415f4b70a07",
       "version_major": 2,
       "version_minor": 0
      },
      "text/plain": [
       "Label(value='Select ALL the shapefile files [.shp, .dbf, .shx, .cpg]')"
      ]
     },
     "metadata": {},
     "output_type": "display_data"
    },
    {
     "data": {
      "application/vnd.jupyter.widget-view+json": {
       "model_id": "9aec65bfe7c743ca8ca45af806fbc398",
       "version_major": 2,
       "version_minor": 0
      },
      "text/plain": [
       "FileUpload(value=(), accept='.shp, .dbf, .shx, .cpg', description='Shapefile', multiple=True)"
      ]
     },
     "metadata": {},
     "output_type": "display_data"
    },
    {
     "data": {
      "application/vnd.jupyter.widget-view+json": {
       "model_id": "ef2234937c514da9af225929090edf23",
       "version_major": 2,
       "version_minor": 0
      },
      "text/plain": [
       "Label(value='Select the Image file')"
      ]
     },
     "metadata": {},
     "output_type": "display_data"
    },
    {
     "data": {
      "application/vnd.jupyter.widget-view+json": {
       "model_id": "e3722dd45e4346968e728708157f8ccb",
       "version_major": 2,
       "version_minor": 0
      },
      "text/plain": [
       "FileUpload(value=(), description='Image')"
      ]
     },
     "metadata": {},
     "output_type": "display_data"
    },
    {
     "data": {
      "application/vnd.jupyter.widget-view+json": {
       "model_id": "147e4ffa8fb64acc843f248553fd3f96",
       "version_major": 2,
       "version_minor": 0
      },
      "text/plain": [
       "Label(value='Select the project name')"
      ]
     },
     "metadata": {},
     "output_type": "display_data"
    },
    {
     "data": {
      "application/vnd.jupyter.widget-view+json": {
       "model_id": "e8076d0cd7944abcbd46edfc68cc49b7",
       "version_major": 2,
       "version_minor": 0
      },
      "text/plain": [
       "Text(value='', description='Name:', placeholder='NAME')"
      ]
     },
     "metadata": {},
     "output_type": "display_data"
    },
    {
     "data": {
      "application/vnd.jupyter.widget-view+json": {
       "model_id": "58762dbb73a141fcbf6df107d8d731b8",
       "version_major": 2,
       "version_minor": 0
      },
      "text/plain": [
       "Label(value='Note: ouptut file will be saved as NAME.ZIP')"
      ]
     },
     "metadata": {},
     "output_type": "display_data"
    }
   ],
   "source": [
    "import json\n",
    "import os\n",
    "from zipfile import ZipFile\n",
    "from osgeo import ogr\n",
    "import ipywidgets as widgets\n",
    "from IPython.display import display\n",
    "\n",
    "\n",
    "Shapefile_selector = widgets.FileUpload(\n",
    "    description='Shapefile',\n",
    "    accept='.shp, .dbf, .shx, .cpg',  \n",
    "    multiple=True  \n",
    ")\n",
    "\n",
    "\n",
    "Jpgfile_selector = widgets.FileUpload(\n",
    "    description='Image',\n",
    "    accept='',  \n",
    "    multiple=False  \n",
    ")\n",
    "projectname = widgets.Text(\n",
    "    description='Name:',\n",
    "    placeholder='NAME'\n",
    ")\n",
    "\n",
    "\n",
    "labelShp = widgets.Label(value='Select ALL the shapefile files [.shp, .dbf, .shx, .cpg]')\n",
    "labelImg = widgets.Label(value='Select the Image file')\n",
    "labelName = widgets.Label(value='Select the project name')\n",
    "disclaimer = widgets.Label(value='Note: ouptut file will be saved as NAME.ZIP')\n",
    "display(labelShp, Shapefile_selector, labelImg, Jpgfile_selector, labelName, projectname, disclaimer)\n",
    "\n",
    "\n",
    "\n"
   ]
  },
  {
   "cell_type": "code",
   "execution_count": 2,
   "metadata": {},
   "outputs": [
    {
     "ename": "StopIteration",
     "evalue": "",
     "output_type": "error",
     "traceback": [
      "\u001b[0;31m---------------------------------------------------------------------------\u001b[0m",
      "\u001b[0;31mStopIteration\u001b[0m                             Traceback (most recent call last)",
      "Cell \u001b[0;32mIn[2], line 21\u001b[0m\n\u001b[1;32m     18\u001b[0m         SHAPEFILE \u001b[38;5;241m=\u001b[39m ShpFileName\n\u001b[1;32m     20\u001b[0m \u001b[38;5;66;03m# shapefile_data = next(iter(Shapefile_selector.value))\u001b[39;00m\n\u001b[0;32m---> 21\u001b[0m jpgfile_data \u001b[38;5;241m=\u001b[39m \u001b[38;5;28;43mnext\u001b[39;49m\u001b[43m(\u001b[49m\u001b[38;5;28;43miter\u001b[39;49m\u001b[43m(\u001b[49m\u001b[43mJpgfile_selector\u001b[49m\u001b[38;5;241;43m.\u001b[39;49m\u001b[43mvalue\u001b[49m\u001b[43m)\u001b[49m\u001b[43m)\u001b[49m\n\u001b[1;32m     23\u001b[0m \u001b[38;5;66;03m# Write the content of the file to disk\u001b[39;00m\n\u001b[1;32m     24\u001b[0m \u001b[38;5;66;03m# with open(shapefile_data['name'], 'wb') as f:\u001b[39;00m\n\u001b[1;32m     25\u001b[0m \u001b[38;5;66;03m#     f.write(shapefile_data['content'])\u001b[39;00m\n\u001b[1;32m     27\u001b[0m \u001b[38;5;28;01mwith\u001b[39;00m \u001b[38;5;28mopen\u001b[39m(jpgfile_data[\u001b[38;5;124m'\u001b[39m\u001b[38;5;124mname\u001b[39m\u001b[38;5;124m'\u001b[39m], \u001b[38;5;124m'\u001b[39m\u001b[38;5;124mwb\u001b[39m\u001b[38;5;124m'\u001b[39m) \u001b[38;5;28;01mas\u001b[39;00m f:\n",
      "\u001b[0;31mStopIteration\u001b[0m: "
     ]
    }
   ],
   "source": [
    "from htmltemplate import HTMLHEAD\n",
    "from htmltemplate import HTMLFOOT\n",
    "from lib import polygoniterate\n",
    "from lib import fix_coords\n",
    "#from libshp2html import polygoniterate\n",
    "\n",
    "NAME = projectname.value\n",
    "\n",
    "SHAPEFILE = ''\n",
    "# Get the uploaded files from the widgets\n",
    "shapefiledata = iter(Shapefile_selector.value)\n",
    "for filename in shapefiledata:\n",
    "    with open(filename['name'], 'wb') as f:\n",
    "        f.write(filename['content'])\n",
    "    # set the shapefile name variable\n",
    "    ShpFileName = filename['name']\n",
    "    if ShpFileName.endswith('.shp'):\n",
    "        SHAPEFILE = ShpFileName\n",
    "\n",
    "# shapefile_data = next(iter(Shapefile_selector.value))\n",
    "jpgfile_data = next(iter(Jpgfile_selector.value))\n",
    "\n",
    "# Write the content of the file to disk\n",
    "# with open(shapefile_data['name'], 'wb') as f:\n",
    "#     f.write(shapefile_data['content'])\n",
    "\n",
    "with open(jpgfile_data['name'], 'wb') as f:\n",
    "    f.write(jpgfile_data['content'])\n",
    "\n",
    "\n",
    "# set paths to the uploaded files\n",
    "# SHAPEFILE = shapefiledata['name']\n",
    "RASTER = jpgfile_data['name']\n",
    "\n",
    "# Set a global variable that tracks the occurrence of inner rings in polygons\n",
    "INRINGS = 0\n",
    "\n",
    "# Set a global variable that holds the list of vertices of each polygon\n",
    "polygons_vert = []\n",
    "# set a global variable that holds the list of attributes of each polygon\n",
    "attributes_list = []\n",
    "\n",
    "# Open the shapefile\n",
    "\n",
    "shapefile = ogr.Open(SHAPEFILE)\n",
    "\n",
    "# Get the layer\n",
    "layer = shapefile.GetLayer()\n",
    "\n",
    "\n",
    "result = polygoniterate(layer, attributes_list, INRINGS, polygons_vert)\n",
    "attributes_list = result[0] # get the attributes list\n",
    "polygons_vert = result[1] # get the vertices list\n",
    "\n",
    "image_block = f'<img src=\"{RASTER}\" usemap=\"#image-map\" '\\\n",
    "               'style=\"width: 100%; height: auto;\">\\n'\n",
    "\n",
    "HTMLPOLYGONS = '<map name=\"image-map\">\\n'\n",
    "for a, p in zip(attributes_list, polygons_vert):\n",
    "    coordstr = str(p)[1:-1].replace('(','').replace(')','').replace(' ','')\n",
    "    id_ = a['OBJECTID']\n",
    "    line = f'\\t<area target=\"_blank\" id=\"imgzone{id_}\" '\\\n",
    "           f'alt=\"Element #{id_}\" title=\"Element #{id_}\" '\\\n",
    "           f'coords=\"{coordstr}\" shape=\"poly\">\\n'\n",
    "    HTMLPOLYGONS += line\n",
    "HTMLPOLYGONS += '</map>\\n'\n",
    "\n",
    "html_path = rf'{NAME}.html'\n",
    "AttributeTable_path = rf'{NAME}.json'\n",
    "\n",
    "# Save as file\n",
    "with open(html_path, 'w', encoding=\"utf-8\") as out_file:\n",
    "    out_file.write(HTMLHEAD)\n",
    "    out_file.write(image_block)\n",
    "    out_file.write('\\n')\n",
    "    out_file.write(HTMLPOLYGONS)\n",
    "    out_file.write(HTMLFOOT)\n",
    "\n",
    "with open(f'{NAME}.json', 'w', encoding=\"utf-8\") as f:\n",
    "    json.dump(attributes_list, f)\n",
    "\n",
    "\n",
    "# Create zip file\n",
    "with ZipFile(rf'{NAME}.zip', 'w') as outzip:\n",
    "    outzip.write(RASTER)\n",
    "    outzip.write(html_path)\n",
    "    outzip.write(AttributeTable_path)\n",
    "\n",
    "# Remove files\n",
    "os.remove(html_path)\n",
    "os.remove(AttributeTable_path)\n",
    "os.remove(RASTER)\n",
    "\n",
    "# remove the uploaded files\n",
    "shapefiledata = iter(Shapefile_selector.value)\n",
    "for filename in shapefiledata:\n",
    "    os.remove(filename['name'])\n",
    "    # with open(filename['name'], 'wb') as f:\n",
    "    #     f.write(filename['content'])\n",
    "    # # set the shapefile name variable\n",
    "    # ShpFileName = filename['name']\n",
    "    # if ShpFileName.endswith('.shp'):\n",
    "    #     SHAPEFILE = ShpFileName\n",
    "    #     break\n"
   ]
  }
 ],
 "metadata": {
  "kernelspec": {
   "display_name": "metpetools",
   "language": "python",
   "name": "python3"
  },
  "language_info": {
   "codemirror_mode": {
    "name": "ipython",
    "version": 3
   },
   "file_extension": ".py",
   "mimetype": "text/x-python",
   "name": "python",
   "nbconvert_exporter": "python",
   "pygments_lexer": "ipython3",
   "version": "3.11.1"
  }
 },
 "nbformat": 4,
 "nbformat_minor": 2
}
